{
  "nbformat": 4,
  "nbformat_minor": 0,
  "metadata": {
    "colab": {
      "provenance": [],
      "include_colab_link": true
    },
    "kernelspec": {
      "name": "python3",
      "display_name": "Python 3"
    },
    "language_info": {
      "name": "python"
    }
  },
  "cells": [
    {
      "cell_type": "markdown",
      "metadata": {
        "id": "view-in-github",
        "colab_type": "text"
      },
      "source": [
        "<a href=\"https://colab.research.google.com/github/matt-cornelius/Flip/blob/main/Practical_2_Regression_FCN.ipynb\" target=\"_parent\"><img src=\"https://colab.research.google.com/assets/colab-badge.svg\" alt=\"Open In Colab\"/></a>"
      ]
    },
    {
      "cell_type": "markdown",
      "source": [
        "# CSE 40868: Neural Networks - Spring 2025\n",
        "\n",
        "## Practical Session 2 - Stock Time Series Regression with a Fully Connected Neural Network in PyTorch\n",
        "\n",
        "Author: Benjamin Sporrer\n",
        "\n",
        "_New: February 10, 2025_\n",
        "\n",
        "Logistics:\n",
        " * Using the \"File > Save to Github\" menu above, save a copy of this notebook to your class Github repo. Maks sure you save it  in the `Practicals/Practical2` folder by prepending `Practicals/Practical2/` to the notebook file name.\n",
        " * Study and run the notebook *before class on February 10*.\n",
        " * Arrive in class ready to do some of the work required.\n",
        " * Finish up your work and commit the changes to your repo, and finish the work by 11:59pm on Monday, February 10th."
      ],
      "metadata": {
        "id": "OIuzjnJY1DpB"
      }
    },
    {
      "cell_type": "markdown",
      "source": [
        "# Provided material"
      ],
      "metadata": {
        "id": "Uzq-docGercd"
      }
    },
    {
      "cell_type": "markdown",
      "source": [
        "## 1. Import\n",
        "\n",
        "If you add additional imports put them here."
      ],
      "metadata": {
        "id": "Duq3eYDrexdN"
      }
    },
    {
      "cell_type": "code",
      "execution_count": 1,
      "metadata": {
        "id": "oSXEJALl0LVd"
      },
      "outputs": [],
      "source": [
        "import numpy as np\n",
        "import pandas as pd\n",
        "import torch\n",
        "import torch.nn as nn\n",
        "import torch.optim as optim\n",
        "from sklearn.preprocessing import MinMaxScaler\n",
        "from sklearn.model_selection import train_test_split\n",
        "import matplotlib.pyplot as plt\n",
        "import gdown\n",
        "import os"
      ]
    },
    {
      "cell_type": "markdown",
      "source": [
        "## 2. Set Device"
      ],
      "metadata": {
        "id": "4Lzg857MfKoi"
      }
    },
    {
      "cell_type": "code",
      "source": [
        "# Move data to GPU if available\n",
        "device = torch.device(\"cuda\" if torch.cuda.is_available() else \"cpu\")\n",
        "print(f\"Using device: {device}\")"
      ],
      "metadata": {
        "id": "zTIkqmHYhFVX",
        "outputId": "8a12f622-62b7-4a2d-f987-7d75f45589bf",
        "colab": {
          "base_uri": "https://localhost:8080/"
        }
      },
      "execution_count": 2,
      "outputs": [
        {
          "output_type": "stream",
          "name": "stdout",
          "text": [
            "Using device: cpu\n"
          ]
        }
      ]
    },
    {
      "cell_type": "markdown",
      "source": [
        "## 3. Create a function to load the datasets from Google Drive"
      ],
      "metadata": {
        "id": "juTUKTjcGJWb"
      }
    },
    {
      "cell_type": "code",
      "source": [
        "def download_file(url, filename):\n",
        "    \"\"\"\n",
        "    Downloads a file from a given Google Drive URL if it does not already exist.\n",
        "\n",
        "    Parameters:\n",
        "        url (str): Google Drive direct download URL.\n",
        "        filename (str): Name to save the file as.\n",
        "    \"\"\"\n",
        "    if os.path.exists(filename):\n",
        "        print(f'{filename} already exists. Delete if you want to re-download it.')\n",
        "    else:\n",
        "        gdown.download(url, filename, quiet=False)\n",
        "        print(f'Downloaded {filename}')"
      ],
      "metadata": {
        "id": "xUwFlNF4GCi_"
      },
      "execution_count": 3,
      "outputs": []
    },
    {
      "cell_type": "markdown",
      "source": [
        "## 4. Load the datasets\n",
        "\n",
        "The dataset in this notebook were created from the historical data on [Yahoo Finance](https://finance.yahoo.com/).\n",
        "\n",
        "The four companies featured are:\n",
        "\n",
        "*  Coca-Cola Company\n",
        "*  Palantir Technologies\n",
        "*  NVIDIA Corporation\n",
        "*  GameStop Corporation\n",
        "\n",
        "The csv files include all historical data available for each company up to February 6, 2025.\n",
        "\n"
      ],
      "metadata": {
        "id": "oQWBbMsFfsNu"
      }
    },
    {
      "cell_type": "code",
      "source": [
        "# Define files to download\n",
        "files = {\n",
        "    \"GME.csv\" : 'https://drive.google.com/uc?id=1erNijFFmyDPGKNzuKJxtBpJukNrr__uw',\n",
        "    \"PLTR.csv\": 'https://drive.google.com/1bnVU21rvy1SYIyhFxusedNbiCrmRxLNu',\n",
        "    \"KO.csv\": 'https://drive.google.com/uc?id=1m4K53Fpgmgx53SeJcMpQtuBJqdTIfOGy',\n",
        "    \"NVDA.csv\": 'https://drive.google.com/uc?id=1ub0pZRanbcqEy-P4hm00bXJn6Z-bAqbj'\n",
        "}\n",
        "\n",
        "# Download each file\n",
        "for filename, url in files.items():\n",
        "    print(filename)\n",
        "    download_file(url, filename)\n",
        "\n",
        "# Create variable to house each csv file and stock name\n",
        "gme = (\"GME.csv\", \"GameStop Corporation\")\n",
        "pltr = (\"PLTR.csv\", \"Palantir Technologies\")\n",
        "ko = (\"KO.csv\", \"Coca-Cola Company\")\n",
        "nvda = (\"NVDA.csv\", \"NVIDIA Corporation\")"
      ],
      "metadata": {
        "id": "HFaBCaolgaey",
        "outputId": "7428d533-304b-4a4a-a093-ede04c9a56e4",
        "colab": {
          "base_uri": "https://localhost:8080/"
        }
      },
      "execution_count": 4,
      "outputs": [
        {
          "output_type": "stream",
          "name": "stdout",
          "text": [
            "GME.csv\n"
          ]
        },
        {
          "output_type": "stream",
          "name": "stderr",
          "text": [
            "Downloading...\n",
            "From: https://drive.google.com/uc?id=1erNijFFmyDPGKNzuKJxtBpJukNrr__uw\n",
            "To: /content/GME.csv\n",
            "100%|██████████| 261k/261k [00:00<00:00, 28.2MB/s]\n",
            "/usr/local/lib/python3.11/dist-packages/gdown/parse_url.py:48: UserWarning: You specified a Google Drive link that is not the correct link to download a file. You might want to try `--fuzzy` option or the following url: https://drive.google.com/uc?id=None\n",
            "  warnings.warn(\n",
            "Downloading...\n",
            "From: https://drive.google.com/1bnVU21rvy1SYIyhFxusedNbiCrmRxLNu\n",
            "To: /content/PLTR.csv\n"
          ]
        },
        {
          "output_type": "stream",
          "name": "stdout",
          "text": [
            "Downloaded GME.csv\n",
            "PLTR.csv\n"
          ]
        },
        {
          "output_type": "stream",
          "name": "stderr",
          "text": [
            "1.65kB [00:00, 2.49MB/s]\n"
          ]
        },
        {
          "output_type": "stream",
          "name": "stdout",
          "text": [
            "Downloaded PLTR.csv\n",
            "KO.csv\n"
          ]
        },
        {
          "output_type": "stream",
          "name": "stderr",
          "text": [
            "Downloading...\n",
            "From: https://drive.google.com/uc?id=1m4K53Fpgmgx53SeJcMpQtuBJqdTIfOGy\n",
            "To: /content/KO.csv\n",
            "100%|██████████| 732k/732k [00:00<00:00, 46.8MB/s]\n"
          ]
        },
        {
          "output_type": "stream",
          "name": "stdout",
          "text": [
            "Downloaded KO.csv\n",
            "NVDA.csv\n"
          ]
        },
        {
          "output_type": "stream",
          "name": "stderr",
          "text": [
            "Downloading...\n",
            "From: https://drive.google.com/uc?id=1ub0pZRanbcqEy-P4hm00bXJn6Z-bAqbj\n",
            "To: /content/NVDA.csv\n",
            "100%|██████████| 305k/305k [00:00<00:00, 66.6MB/s]"
          ]
        },
        {
          "output_type": "stream",
          "name": "stdout",
          "text": [
            "Downloaded NVDA.csv\n"
          ]
        },
        {
          "output_type": "stream",
          "name": "stderr",
          "text": [
            "\n"
          ]
        }
      ]
    },
    {
      "cell_type": "markdown",
      "source": [
        "## 5. Create Function to Preprocess Financial Data\n",
        "\n",
        "This function uses the ubiquitous Pandas library to do some data engineering:\n",
        " * chronological sort (using the 'Date' column - after making sure that column contains sortable dates)\n",
        " * clips the data to a specified range. None or both or either of the start date and end date can be specified as parameters to the function.\n",
        " * Normalizes the closing price between 0 and 1."
      ],
      "metadata": {
        "id": "EdmTwEuahytL"
      }
    },
    {
      "cell_type": "code",
      "source": [
        "def preprocess_financial_data(csv_file, start_date=None, end_date=None):\n",
        "    \"\"\"\n",
        "    Loads a financial dataset, sorts it chronologically, filters for a specified date range,\n",
        "    and normalizes the 'Close' price column.\n",
        "\n",
        "    Parameters:\n",
        "        csv_file (str): Path to the CSV file.\n",
        "        start_date (str or pd.Timestamp, optional): The earliest date for filtering data (format: \"YYYY-MM-DD\").\n",
        "            If None, defaults to the minimum date in the dataset.\n",
        "        end_date (str or pd.Timestamp, optional): The latest date for filtering data (format: \"YYYY-MM-DD\").\n",
        "            If None, defaults to the maximum date in the dataset.\n",
        "\n",
        "    Returns:\n",
        "        tuple: (normalized_data, scaler, processed DataFrame)\n",
        "    \"\"\"\n",
        "    # Load the dataset\n",
        "    df = pd.read_csv(csv_file)\n",
        "\n",
        "    # Ensure chronological order\n",
        "    df['Date'] = pd.to_datetime(df['Date'])\n",
        "    df = df.sort_values(by='Date')\n",
        "\n",
        "    # Determine valid date range\n",
        "    min_date, max_date = df['Date'].min(), df['Date'].max()\n",
        "    start_date = pd.to_datetime(start_date) if start_date else min_date\n",
        "    end_date = pd.to_datetime(end_date) if end_date else max_date\n",
        "\n",
        "    # Ensure start_date and end_date are within dataset range\n",
        "    start_date = max(start_date, min_date)\n",
        "    end_date = min(end_date, max_date)\n",
        "\n",
        "    # Apply filtering\n",
        "    df = df[(df['Date'] >= start_date) & (df['Date'] <= end_date)]\n",
        "    df.set_index('Date', inplace=True)\n",
        "\n",
        "    # Select relevant columns\n",
        "    data = df[['Close']].values\n",
        "\n",
        "    # Normalize the data\n",
        "    scaler = MinMaxScaler()\n",
        "    normalized_data = scaler.fit_transform(data)\n",
        "\n",
        "    return normalized_data, scaler, df\n"
      ],
      "metadata": {
        "id": "uNUbzoE1ge4_"
      },
      "execution_count": 5,
      "outputs": []
    },
    {
      "cell_type": "markdown",
      "source": [
        "## 6. Preprocess Dataset\n",
        "\n",
        "Report some results of preprocessing GameStop data."
      ],
      "metadata": {
        "id": "78zf6_8iiARp"
      }
    },
    {
      "cell_type": "code",
      "source": [
        "# Preprocess the dataset\n",
        "normalized_data, scaler, df_processed = preprocess_financial_data(gme[0], end_date=\"2019-01-01\")\n",
        "\n",
        "# Display first and last few rows of processed DataFrame\n",
        "print(\"\\n\")\n",
        "print(\"First rows of the dataset\")\n",
        "display(df_processed.head())\n",
        "\n",
        "print(\"\\n\")\n",
        "print(\"Last rows of the dataset\")\n",
        "display(df_processed.tail())"
      ],
      "metadata": {
        "id": "o120MioWg3Dz",
        "outputId": "eead1174-9a44-43fa-ca0a-7e14c983052b",
        "colab": {
          "base_uri": "https://localhost:8080/",
          "height": 565
        }
      },
      "execution_count": 6,
      "outputs": [
        {
          "output_type": "stream",
          "name": "stdout",
          "text": [
            "\n",
            "\n",
            "First rows of the dataset\n"
          ]
        },
        {
          "output_type": "display_data",
          "data": {
            "text/plain": [
              "            Open  High   Low  Close  Adj. Close    Volume\n",
              "Date                                                     \n",
              "2002-02-13  2.41  2.52  2.38   2.51        1.69  76216000\n",
              "2002-02-14  2.54  2.55  2.48   2.50        1.68  11021600\n",
              "2002-02-15  2.50  2.51  2.46   2.49        1.67   8389600\n",
              "2002-02-19  2.47  2.47  2.34   2.39        1.61   7410400\n",
              "2002-02-20  2.40  2.47  2.38   2.47        1.66   6892800"
            ],
            "text/html": [
              "\n",
              "  <div id=\"df-1a5ec097-9e11-4a99-b511-9af7dfea3e58\" class=\"colab-df-container\">\n",
              "    <div>\n",
              "<style scoped>\n",
              "    .dataframe tbody tr th:only-of-type {\n",
              "        vertical-align: middle;\n",
              "    }\n",
              "\n",
              "    .dataframe tbody tr th {\n",
              "        vertical-align: top;\n",
              "    }\n",
              "\n",
              "    .dataframe thead th {\n",
              "        text-align: right;\n",
              "    }\n",
              "</style>\n",
              "<table border=\"1\" class=\"dataframe\">\n",
              "  <thead>\n",
              "    <tr style=\"text-align: right;\">\n",
              "      <th></th>\n",
              "      <th>Open</th>\n",
              "      <th>High</th>\n",
              "      <th>Low</th>\n",
              "      <th>Close</th>\n",
              "      <th>Adj. Close</th>\n",
              "      <th>Volume</th>\n",
              "    </tr>\n",
              "    <tr>\n",
              "      <th>Date</th>\n",
              "      <th></th>\n",
              "      <th></th>\n",
              "      <th></th>\n",
              "      <th></th>\n",
              "      <th></th>\n",
              "      <th></th>\n",
              "    </tr>\n",
              "  </thead>\n",
              "  <tbody>\n",
              "    <tr>\n",
              "      <th>2002-02-13</th>\n",
              "      <td>2.41</td>\n",
              "      <td>2.52</td>\n",
              "      <td>2.38</td>\n",
              "      <td>2.51</td>\n",
              "      <td>1.69</td>\n",
              "      <td>76216000</td>\n",
              "    </tr>\n",
              "    <tr>\n",
              "      <th>2002-02-14</th>\n",
              "      <td>2.54</td>\n",
              "      <td>2.55</td>\n",
              "      <td>2.48</td>\n",
              "      <td>2.50</td>\n",
              "      <td>1.68</td>\n",
              "      <td>11021600</td>\n",
              "    </tr>\n",
              "    <tr>\n",
              "      <th>2002-02-15</th>\n",
              "      <td>2.50</td>\n",
              "      <td>2.51</td>\n",
              "      <td>2.46</td>\n",
              "      <td>2.49</td>\n",
              "      <td>1.67</td>\n",
              "      <td>8389600</td>\n",
              "    </tr>\n",
              "    <tr>\n",
              "      <th>2002-02-19</th>\n",
              "      <td>2.47</td>\n",
              "      <td>2.47</td>\n",
              "      <td>2.34</td>\n",
              "      <td>2.39</td>\n",
              "      <td>1.61</td>\n",
              "      <td>7410400</td>\n",
              "    </tr>\n",
              "    <tr>\n",
              "      <th>2002-02-20</th>\n",
              "      <td>2.40</td>\n",
              "      <td>2.47</td>\n",
              "      <td>2.38</td>\n",
              "      <td>2.47</td>\n",
              "      <td>1.66</td>\n",
              "      <td>6892800</td>\n",
              "    </tr>\n",
              "  </tbody>\n",
              "</table>\n",
              "</div>\n",
              "    <div class=\"colab-df-buttons\">\n",
              "\n",
              "  <div class=\"colab-df-container\">\n",
              "    <button class=\"colab-df-convert\" onclick=\"convertToInteractive('df-1a5ec097-9e11-4a99-b511-9af7dfea3e58')\"\n",
              "            title=\"Convert this dataframe to an interactive table.\"\n",
              "            style=\"display:none;\">\n",
              "\n",
              "  <svg xmlns=\"http://www.w3.org/2000/svg\" height=\"24px\" viewBox=\"0 -960 960 960\">\n",
              "    <path d=\"M120-120v-720h720v720H120Zm60-500h600v-160H180v160Zm220 220h160v-160H400v160Zm0 220h160v-160H400v160ZM180-400h160v-160H180v160Zm440 0h160v-160H620v160ZM180-180h160v-160H180v160Zm440 0h160v-160H620v160Z\"/>\n",
              "  </svg>\n",
              "    </button>\n",
              "\n",
              "  <style>\n",
              "    .colab-df-container {\n",
              "      display:flex;\n",
              "      gap: 12px;\n",
              "    }\n",
              "\n",
              "    .colab-df-convert {\n",
              "      background-color: #E8F0FE;\n",
              "      border: none;\n",
              "      border-radius: 50%;\n",
              "      cursor: pointer;\n",
              "      display: none;\n",
              "      fill: #1967D2;\n",
              "      height: 32px;\n",
              "      padding: 0 0 0 0;\n",
              "      width: 32px;\n",
              "    }\n",
              "\n",
              "    .colab-df-convert:hover {\n",
              "      background-color: #E2EBFA;\n",
              "      box-shadow: 0px 1px 2px rgba(60, 64, 67, 0.3), 0px 1px 3px 1px rgba(60, 64, 67, 0.15);\n",
              "      fill: #174EA6;\n",
              "    }\n",
              "\n",
              "    .colab-df-buttons div {\n",
              "      margin-bottom: 4px;\n",
              "    }\n",
              "\n",
              "    [theme=dark] .colab-df-convert {\n",
              "      background-color: #3B4455;\n",
              "      fill: #D2E3FC;\n",
              "    }\n",
              "\n",
              "    [theme=dark] .colab-df-convert:hover {\n",
              "      background-color: #434B5C;\n",
              "      box-shadow: 0px 1px 3px 1px rgba(0, 0, 0, 0.15);\n",
              "      filter: drop-shadow(0px 1px 2px rgba(0, 0, 0, 0.3));\n",
              "      fill: #FFFFFF;\n",
              "    }\n",
              "  </style>\n",
              "\n",
              "    <script>\n",
              "      const buttonEl =\n",
              "        document.querySelector('#df-1a5ec097-9e11-4a99-b511-9af7dfea3e58 button.colab-df-convert');\n",
              "      buttonEl.style.display =\n",
              "        google.colab.kernel.accessAllowed ? 'block' : 'none';\n",
              "\n",
              "      async function convertToInteractive(key) {\n",
              "        const element = document.querySelector('#df-1a5ec097-9e11-4a99-b511-9af7dfea3e58');\n",
              "        const dataTable =\n",
              "          await google.colab.kernel.invokeFunction('convertToInteractive',\n",
              "                                                    [key], {});\n",
              "        if (!dataTable) return;\n",
              "\n",
              "        const docLinkHtml = 'Like what you see? Visit the ' +\n",
              "          '<a target=\"_blank\" href=https://colab.research.google.com/notebooks/data_table.ipynb>data table notebook</a>'\n",
              "          + ' to learn more about interactive tables.';\n",
              "        element.innerHTML = '';\n",
              "        dataTable['output_type'] = 'display_data';\n",
              "        await google.colab.output.renderOutput(dataTable, element);\n",
              "        const docLink = document.createElement('div');\n",
              "        docLink.innerHTML = docLinkHtml;\n",
              "        element.appendChild(docLink);\n",
              "      }\n",
              "    </script>\n",
              "  </div>\n",
              "\n",
              "\n",
              "<div id=\"df-6df0efc1-a40f-4a13-981f-988702cc41ff\">\n",
              "  <button class=\"colab-df-quickchart\" onclick=\"quickchart('df-6df0efc1-a40f-4a13-981f-988702cc41ff')\"\n",
              "            title=\"Suggest charts\"\n",
              "            style=\"display:none;\">\n",
              "\n",
              "<svg xmlns=\"http://www.w3.org/2000/svg\" height=\"24px\"viewBox=\"0 0 24 24\"\n",
              "     width=\"24px\">\n",
              "    <g>\n",
              "        <path d=\"M19 3H5c-1.1 0-2 .9-2 2v14c0 1.1.9 2 2 2h14c1.1 0 2-.9 2-2V5c0-1.1-.9-2-2-2zM9 17H7v-7h2v7zm4 0h-2V7h2v10zm4 0h-2v-4h2v4z\"/>\n",
              "    </g>\n",
              "</svg>\n",
              "  </button>\n",
              "\n",
              "<style>\n",
              "  .colab-df-quickchart {\n",
              "      --bg-color: #E8F0FE;\n",
              "      --fill-color: #1967D2;\n",
              "      --hover-bg-color: #E2EBFA;\n",
              "      --hover-fill-color: #174EA6;\n",
              "      --disabled-fill-color: #AAA;\n",
              "      --disabled-bg-color: #DDD;\n",
              "  }\n",
              "\n",
              "  [theme=dark] .colab-df-quickchart {\n",
              "      --bg-color: #3B4455;\n",
              "      --fill-color: #D2E3FC;\n",
              "      --hover-bg-color: #434B5C;\n",
              "      --hover-fill-color: #FFFFFF;\n",
              "      --disabled-bg-color: #3B4455;\n",
              "      --disabled-fill-color: #666;\n",
              "  }\n",
              "\n",
              "  .colab-df-quickchart {\n",
              "    background-color: var(--bg-color);\n",
              "    border: none;\n",
              "    border-radius: 50%;\n",
              "    cursor: pointer;\n",
              "    display: none;\n",
              "    fill: var(--fill-color);\n",
              "    height: 32px;\n",
              "    padding: 0;\n",
              "    width: 32px;\n",
              "  }\n",
              "\n",
              "  .colab-df-quickchart:hover {\n",
              "    background-color: var(--hover-bg-color);\n",
              "    box-shadow: 0 1px 2px rgba(60, 64, 67, 0.3), 0 1px 3px 1px rgba(60, 64, 67, 0.15);\n",
              "    fill: var(--button-hover-fill-color);\n",
              "  }\n",
              "\n",
              "  .colab-df-quickchart-complete:disabled,\n",
              "  .colab-df-quickchart-complete:disabled:hover {\n",
              "    background-color: var(--disabled-bg-color);\n",
              "    fill: var(--disabled-fill-color);\n",
              "    box-shadow: none;\n",
              "  }\n",
              "\n",
              "  .colab-df-spinner {\n",
              "    border: 2px solid var(--fill-color);\n",
              "    border-color: transparent;\n",
              "    border-bottom-color: var(--fill-color);\n",
              "    animation:\n",
              "      spin 1s steps(1) infinite;\n",
              "  }\n",
              "\n",
              "  @keyframes spin {\n",
              "    0% {\n",
              "      border-color: transparent;\n",
              "      border-bottom-color: var(--fill-color);\n",
              "      border-left-color: var(--fill-color);\n",
              "    }\n",
              "    20% {\n",
              "      border-color: transparent;\n",
              "      border-left-color: var(--fill-color);\n",
              "      border-top-color: var(--fill-color);\n",
              "    }\n",
              "    30% {\n",
              "      border-color: transparent;\n",
              "      border-left-color: var(--fill-color);\n",
              "      border-top-color: var(--fill-color);\n",
              "      border-right-color: var(--fill-color);\n",
              "    }\n",
              "    40% {\n",
              "      border-color: transparent;\n",
              "      border-right-color: var(--fill-color);\n",
              "      border-top-color: var(--fill-color);\n",
              "    }\n",
              "    60% {\n",
              "      border-color: transparent;\n",
              "      border-right-color: var(--fill-color);\n",
              "    }\n",
              "    80% {\n",
              "      border-color: transparent;\n",
              "      border-right-color: var(--fill-color);\n",
              "      border-bottom-color: var(--fill-color);\n",
              "    }\n",
              "    90% {\n",
              "      border-color: transparent;\n",
              "      border-bottom-color: var(--fill-color);\n",
              "    }\n",
              "  }\n",
              "</style>\n",
              "\n",
              "  <script>\n",
              "    async function quickchart(key) {\n",
              "      const quickchartButtonEl =\n",
              "        document.querySelector('#' + key + ' button');\n",
              "      quickchartButtonEl.disabled = true;  // To prevent multiple clicks.\n",
              "      quickchartButtonEl.classList.add('colab-df-spinner');\n",
              "      try {\n",
              "        const charts = await google.colab.kernel.invokeFunction(\n",
              "            'suggestCharts', [key], {});\n",
              "      } catch (error) {\n",
              "        console.error('Error during call to suggestCharts:', error);\n",
              "      }\n",
              "      quickchartButtonEl.classList.remove('colab-df-spinner');\n",
              "      quickchartButtonEl.classList.add('colab-df-quickchart-complete');\n",
              "    }\n",
              "    (() => {\n",
              "      let quickchartButtonEl =\n",
              "        document.querySelector('#df-6df0efc1-a40f-4a13-981f-988702cc41ff button');\n",
              "      quickchartButtonEl.style.display =\n",
              "        google.colab.kernel.accessAllowed ? 'block' : 'none';\n",
              "    })();\n",
              "  </script>\n",
              "</div>\n",
              "\n",
              "    </div>\n",
              "  </div>\n"
            ],
            "application/vnd.google.colaboratory.intrinsic+json": {
              "type": "dataframe",
              "summary": "{\n  \"name\": \"display(df_processed\",\n  \"rows\": 5,\n  \"fields\": [\n    {\n      \"column\": \"Date\",\n      \"properties\": {\n        \"dtype\": \"date\",\n        \"min\": \"2002-02-13 00:00:00\",\n        \"max\": \"2002-02-20 00:00:00\",\n        \"num_unique_values\": 5,\n        \"samples\": [\n          \"2002-02-14 00:00:00\",\n          \"2002-02-20 00:00:00\",\n          \"2002-02-15 00:00:00\"\n        ],\n        \"semantic_type\": \"\",\n        \"description\": \"\"\n      }\n    },\n    {\n      \"column\": \"Open\",\n      \"properties\": {\n        \"dtype\": \"number\",\n        \"std\": 0.0594138031100518,\n        \"min\": 2.4,\n        \"max\": 2.54,\n        \"num_unique_values\": 5,\n        \"samples\": [\n          2.54,\n          2.4,\n          2.5\n        ],\n        \"semantic_type\": \"\",\n        \"description\": \"\"\n      }\n    },\n    {\n      \"column\": \"High\",\n      \"properties\": {\n        \"dtype\": \"number\",\n        \"std\": 0.034351128074635175,\n        \"min\": 2.47,\n        \"max\": 2.55,\n        \"num_unique_values\": 4,\n        \"samples\": [\n          2.55,\n          2.47,\n          2.52\n        ],\n        \"semantic_type\": \"\",\n        \"description\": \"\"\n      }\n    },\n    {\n      \"column\": \"Low\",\n      \"properties\": {\n        \"dtype\": \"number\",\n        \"std\": 0.05932958789676536,\n        \"min\": 2.34,\n        \"max\": 2.48,\n        \"num_unique_values\": 4,\n        \"samples\": [\n          2.48,\n          2.34,\n          2.38\n        ],\n        \"semantic_type\": \"\",\n        \"description\": \"\"\n      }\n    },\n    {\n      \"column\": \"Close\",\n      \"properties\": {\n        \"dtype\": \"number\",\n        \"std\": 0.04816637831516911,\n        \"min\": 2.39,\n        \"max\": 2.51,\n        \"num_unique_values\": 5,\n        \"samples\": [\n          2.5,\n          2.47,\n          2.49\n        ],\n        \"semantic_type\": \"\",\n        \"description\": \"\"\n      }\n    },\n    {\n      \"column\": \"Adj. Close\",\n      \"properties\": {\n        \"dtype\": \"number\",\n        \"std\": 0.03114482300479481,\n        \"min\": 1.61,\n        \"max\": 1.69,\n        \"num_unique_values\": 5,\n        \"samples\": [\n          1.68,\n          1.66,\n          1.67\n        ],\n        \"semantic_type\": \"\",\n        \"description\": \"\"\n      }\n    },\n    {\n      \"column\": \"Volume\",\n      \"properties\": {\n        \"dtype\": \"number\",\n        \"std\": 30357148,\n        \"min\": 6892800,\n        \"max\": 76216000,\n        \"num_unique_values\": 5,\n        \"samples\": [\n          11021600,\n          6892800,\n          8389600\n        ],\n        \"semantic_type\": \"\",\n        \"description\": \"\"\n      }\n    }\n  ]\n}"
            }
          },
          "metadata": {}
        },
        {
          "output_type": "stream",
          "name": "stdout",
          "text": [
            "\n",
            "\n",
            "Last rows of the dataset\n"
          ]
        },
        {
          "output_type": "display_data",
          "data": {
            "text/plain": [
              "            Open  High   Low  Close  Adj. Close    Volume\n",
              "Date                                                     \n",
              "2018-12-24  2.99  3.01  2.91   2.92        2.82   5314000\n",
              "2018-12-26  2.93  3.10  2.89   3.10        3.00   9616800\n",
              "2018-12-27  3.06  3.06  2.91   3.05        2.95   7338400\n",
              "2018-12-28  3.05  3.12  3.00   3.07        2.97   8105200\n",
              "2018-12-31  3.08  3.17  3.08   3.15        3.05  11161200"
            ],
            "text/html": [
              "\n",
              "  <div id=\"df-09b52219-e073-41f1-8246-590f06c2709f\" class=\"colab-df-container\">\n",
              "    <div>\n",
              "<style scoped>\n",
              "    .dataframe tbody tr th:only-of-type {\n",
              "        vertical-align: middle;\n",
              "    }\n",
              "\n",
              "    .dataframe tbody tr th {\n",
              "        vertical-align: top;\n",
              "    }\n",
              "\n",
              "    .dataframe thead th {\n",
              "        text-align: right;\n",
              "    }\n",
              "</style>\n",
              "<table border=\"1\" class=\"dataframe\">\n",
              "  <thead>\n",
              "    <tr style=\"text-align: right;\">\n",
              "      <th></th>\n",
              "      <th>Open</th>\n",
              "      <th>High</th>\n",
              "      <th>Low</th>\n",
              "      <th>Close</th>\n",
              "      <th>Adj. Close</th>\n",
              "      <th>Volume</th>\n",
              "    </tr>\n",
              "    <tr>\n",
              "      <th>Date</th>\n",
              "      <th></th>\n",
              "      <th></th>\n",
              "      <th></th>\n",
              "      <th></th>\n",
              "      <th></th>\n",
              "      <th></th>\n",
              "    </tr>\n",
              "  </thead>\n",
              "  <tbody>\n",
              "    <tr>\n",
              "      <th>2018-12-24</th>\n",
              "      <td>2.99</td>\n",
              "      <td>3.01</td>\n",
              "      <td>2.91</td>\n",
              "      <td>2.92</td>\n",
              "      <td>2.82</td>\n",
              "      <td>5314000</td>\n",
              "    </tr>\n",
              "    <tr>\n",
              "      <th>2018-12-26</th>\n",
              "      <td>2.93</td>\n",
              "      <td>3.10</td>\n",
              "      <td>2.89</td>\n",
              "      <td>3.10</td>\n",
              "      <td>3.00</td>\n",
              "      <td>9616800</td>\n",
              "    </tr>\n",
              "    <tr>\n",
              "      <th>2018-12-27</th>\n",
              "      <td>3.06</td>\n",
              "      <td>3.06</td>\n",
              "      <td>2.91</td>\n",
              "      <td>3.05</td>\n",
              "      <td>2.95</td>\n",
              "      <td>7338400</td>\n",
              "    </tr>\n",
              "    <tr>\n",
              "      <th>2018-12-28</th>\n",
              "      <td>3.05</td>\n",
              "      <td>3.12</td>\n",
              "      <td>3.00</td>\n",
              "      <td>3.07</td>\n",
              "      <td>2.97</td>\n",
              "      <td>8105200</td>\n",
              "    </tr>\n",
              "    <tr>\n",
              "      <th>2018-12-31</th>\n",
              "      <td>3.08</td>\n",
              "      <td>3.17</td>\n",
              "      <td>3.08</td>\n",
              "      <td>3.15</td>\n",
              "      <td>3.05</td>\n",
              "      <td>11161200</td>\n",
              "    </tr>\n",
              "  </tbody>\n",
              "</table>\n",
              "</div>\n",
              "    <div class=\"colab-df-buttons\">\n",
              "\n",
              "  <div class=\"colab-df-container\">\n",
              "    <button class=\"colab-df-convert\" onclick=\"convertToInteractive('df-09b52219-e073-41f1-8246-590f06c2709f')\"\n",
              "            title=\"Convert this dataframe to an interactive table.\"\n",
              "            style=\"display:none;\">\n",
              "\n",
              "  <svg xmlns=\"http://www.w3.org/2000/svg\" height=\"24px\" viewBox=\"0 -960 960 960\">\n",
              "    <path d=\"M120-120v-720h720v720H120Zm60-500h600v-160H180v160Zm220 220h160v-160H400v160Zm0 220h160v-160H400v160ZM180-400h160v-160H180v160Zm440 0h160v-160H620v160ZM180-180h160v-160H180v160Zm440 0h160v-160H620v160Z\"/>\n",
              "  </svg>\n",
              "    </button>\n",
              "\n",
              "  <style>\n",
              "    .colab-df-container {\n",
              "      display:flex;\n",
              "      gap: 12px;\n",
              "    }\n",
              "\n",
              "    .colab-df-convert {\n",
              "      background-color: #E8F0FE;\n",
              "      border: none;\n",
              "      border-radius: 50%;\n",
              "      cursor: pointer;\n",
              "      display: none;\n",
              "      fill: #1967D2;\n",
              "      height: 32px;\n",
              "      padding: 0 0 0 0;\n",
              "      width: 32px;\n",
              "    }\n",
              "\n",
              "    .colab-df-convert:hover {\n",
              "      background-color: #E2EBFA;\n",
              "      box-shadow: 0px 1px 2px rgba(60, 64, 67, 0.3), 0px 1px 3px 1px rgba(60, 64, 67, 0.15);\n",
              "      fill: #174EA6;\n",
              "    }\n",
              "\n",
              "    .colab-df-buttons div {\n",
              "      margin-bottom: 4px;\n",
              "    }\n",
              "\n",
              "    [theme=dark] .colab-df-convert {\n",
              "      background-color: #3B4455;\n",
              "      fill: #D2E3FC;\n",
              "    }\n",
              "\n",
              "    [theme=dark] .colab-df-convert:hover {\n",
              "      background-color: #434B5C;\n",
              "      box-shadow: 0px 1px 3px 1px rgba(0, 0, 0, 0.15);\n",
              "      filter: drop-shadow(0px 1px 2px rgba(0, 0, 0, 0.3));\n",
              "      fill: #FFFFFF;\n",
              "    }\n",
              "  </style>\n",
              "\n",
              "    <script>\n",
              "      const buttonEl =\n",
              "        document.querySelector('#df-09b52219-e073-41f1-8246-590f06c2709f button.colab-df-convert');\n",
              "      buttonEl.style.display =\n",
              "        google.colab.kernel.accessAllowed ? 'block' : 'none';\n",
              "\n",
              "      async function convertToInteractive(key) {\n",
              "        const element = document.querySelector('#df-09b52219-e073-41f1-8246-590f06c2709f');\n",
              "        const dataTable =\n",
              "          await google.colab.kernel.invokeFunction('convertToInteractive',\n",
              "                                                    [key], {});\n",
              "        if (!dataTable) return;\n",
              "\n",
              "        const docLinkHtml = 'Like what you see? Visit the ' +\n",
              "          '<a target=\"_blank\" href=https://colab.research.google.com/notebooks/data_table.ipynb>data table notebook</a>'\n",
              "          + ' to learn more about interactive tables.';\n",
              "        element.innerHTML = '';\n",
              "        dataTable['output_type'] = 'display_data';\n",
              "        await google.colab.output.renderOutput(dataTable, element);\n",
              "        const docLink = document.createElement('div');\n",
              "        docLink.innerHTML = docLinkHtml;\n",
              "        element.appendChild(docLink);\n",
              "      }\n",
              "    </script>\n",
              "  </div>\n",
              "\n",
              "\n",
              "<div id=\"df-d572055d-f498-49ac-a5d0-856689725a11\">\n",
              "  <button class=\"colab-df-quickchart\" onclick=\"quickchart('df-d572055d-f498-49ac-a5d0-856689725a11')\"\n",
              "            title=\"Suggest charts\"\n",
              "            style=\"display:none;\">\n",
              "\n",
              "<svg xmlns=\"http://www.w3.org/2000/svg\" height=\"24px\"viewBox=\"0 0 24 24\"\n",
              "     width=\"24px\">\n",
              "    <g>\n",
              "        <path d=\"M19 3H5c-1.1 0-2 .9-2 2v14c0 1.1.9 2 2 2h14c1.1 0 2-.9 2-2V5c0-1.1-.9-2-2-2zM9 17H7v-7h2v7zm4 0h-2V7h2v10zm4 0h-2v-4h2v4z\"/>\n",
              "    </g>\n",
              "</svg>\n",
              "  </button>\n",
              "\n",
              "<style>\n",
              "  .colab-df-quickchart {\n",
              "      --bg-color: #E8F0FE;\n",
              "      --fill-color: #1967D2;\n",
              "      --hover-bg-color: #E2EBFA;\n",
              "      --hover-fill-color: #174EA6;\n",
              "      --disabled-fill-color: #AAA;\n",
              "      --disabled-bg-color: #DDD;\n",
              "  }\n",
              "\n",
              "  [theme=dark] .colab-df-quickchart {\n",
              "      --bg-color: #3B4455;\n",
              "      --fill-color: #D2E3FC;\n",
              "      --hover-bg-color: #434B5C;\n",
              "      --hover-fill-color: #FFFFFF;\n",
              "      --disabled-bg-color: #3B4455;\n",
              "      --disabled-fill-color: #666;\n",
              "  }\n",
              "\n",
              "  .colab-df-quickchart {\n",
              "    background-color: var(--bg-color);\n",
              "    border: none;\n",
              "    border-radius: 50%;\n",
              "    cursor: pointer;\n",
              "    display: none;\n",
              "    fill: var(--fill-color);\n",
              "    height: 32px;\n",
              "    padding: 0;\n",
              "    width: 32px;\n",
              "  }\n",
              "\n",
              "  .colab-df-quickchart:hover {\n",
              "    background-color: var(--hover-bg-color);\n",
              "    box-shadow: 0 1px 2px rgba(60, 64, 67, 0.3), 0 1px 3px 1px rgba(60, 64, 67, 0.15);\n",
              "    fill: var(--button-hover-fill-color);\n",
              "  }\n",
              "\n",
              "  .colab-df-quickchart-complete:disabled,\n",
              "  .colab-df-quickchart-complete:disabled:hover {\n",
              "    background-color: var(--disabled-bg-color);\n",
              "    fill: var(--disabled-fill-color);\n",
              "    box-shadow: none;\n",
              "  }\n",
              "\n",
              "  .colab-df-spinner {\n",
              "    border: 2px solid var(--fill-color);\n",
              "    border-color: transparent;\n",
              "    border-bottom-color: var(--fill-color);\n",
              "    animation:\n",
              "      spin 1s steps(1) infinite;\n",
              "  }\n",
              "\n",
              "  @keyframes spin {\n",
              "    0% {\n",
              "      border-color: transparent;\n",
              "      border-bottom-color: var(--fill-color);\n",
              "      border-left-color: var(--fill-color);\n",
              "    }\n",
              "    20% {\n",
              "      border-color: transparent;\n",
              "      border-left-color: var(--fill-color);\n",
              "      border-top-color: var(--fill-color);\n",
              "    }\n",
              "    30% {\n",
              "      border-color: transparent;\n",
              "      border-left-color: var(--fill-color);\n",
              "      border-top-color: var(--fill-color);\n",
              "      border-right-color: var(--fill-color);\n",
              "    }\n",
              "    40% {\n",
              "      border-color: transparent;\n",
              "      border-right-color: var(--fill-color);\n",
              "      border-top-color: var(--fill-color);\n",
              "    }\n",
              "    60% {\n",
              "      border-color: transparent;\n",
              "      border-right-color: var(--fill-color);\n",
              "    }\n",
              "    80% {\n",
              "      border-color: transparent;\n",
              "      border-right-color: var(--fill-color);\n",
              "      border-bottom-color: var(--fill-color);\n",
              "    }\n",
              "    90% {\n",
              "      border-color: transparent;\n",
              "      border-bottom-color: var(--fill-color);\n",
              "    }\n",
              "  }\n",
              "</style>\n",
              "\n",
              "  <script>\n",
              "    async function quickchart(key) {\n",
              "      const quickchartButtonEl =\n",
              "        document.querySelector('#' + key + ' button');\n",
              "      quickchartButtonEl.disabled = true;  // To prevent multiple clicks.\n",
              "      quickchartButtonEl.classList.add('colab-df-spinner');\n",
              "      try {\n",
              "        const charts = await google.colab.kernel.invokeFunction(\n",
              "            'suggestCharts', [key], {});\n",
              "      } catch (error) {\n",
              "        console.error('Error during call to suggestCharts:', error);\n",
              "      }\n",
              "      quickchartButtonEl.classList.remove('colab-df-spinner');\n",
              "      quickchartButtonEl.classList.add('colab-df-quickchart-complete');\n",
              "    }\n",
              "    (() => {\n",
              "      let quickchartButtonEl =\n",
              "        document.querySelector('#df-d572055d-f498-49ac-a5d0-856689725a11 button');\n",
              "      quickchartButtonEl.style.display =\n",
              "        google.colab.kernel.accessAllowed ? 'block' : 'none';\n",
              "    })();\n",
              "  </script>\n",
              "</div>\n",
              "\n",
              "    </div>\n",
              "  </div>\n"
            ],
            "application/vnd.google.colaboratory.intrinsic+json": {
              "type": "dataframe",
              "summary": "{\n  \"name\": \"display(df_processed\",\n  \"rows\": 5,\n  \"fields\": [\n    {\n      \"column\": \"Date\",\n      \"properties\": {\n        \"dtype\": \"date\",\n        \"min\": \"2018-12-24 00:00:00\",\n        \"max\": \"2018-12-31 00:00:00\",\n        \"num_unique_values\": 5,\n        \"samples\": [\n          \"2018-12-26 00:00:00\",\n          \"2018-12-31 00:00:00\",\n          \"2018-12-27 00:00:00\"\n        ],\n        \"semantic_type\": \"\",\n        \"description\": \"\"\n      }\n    },\n    {\n      \"column\": \"Open\",\n      \"properties\": {\n        \"dtype\": \"number\",\n        \"std\": 0.061400325732034924,\n        \"min\": 2.93,\n        \"max\": 3.08,\n        \"num_unique_values\": 5,\n        \"samples\": [\n          2.93,\n          3.08,\n          3.06\n        ],\n        \"semantic_type\": \"\",\n        \"description\": \"\"\n      }\n    },\n    {\n      \"column\": \"High\",\n      \"properties\": {\n        \"dtype\": \"number\",\n        \"std\": 0.0605805249234439,\n        \"min\": 3.01,\n        \"max\": 3.17,\n        \"num_unique_values\": 5,\n        \"samples\": [\n          3.1,\n          3.17,\n          3.06\n        ],\n        \"semantic_type\": \"\",\n        \"description\": \"\"\n      }\n    },\n    {\n      \"column\": \"Low\",\n      \"properties\": {\n        \"dtype\": \"number\",\n        \"std\": 0.08043631020876078,\n        \"min\": 2.89,\n        \"max\": 3.08,\n        \"num_unique_values\": 4,\n        \"samples\": [\n          2.89,\n          3.08,\n          2.91\n        ],\n        \"semantic_type\": \"\",\n        \"description\": \"\"\n      }\n    },\n    {\n      \"column\": \"Close\",\n      \"properties\": {\n        \"dtype\": \"number\",\n        \"std\": 0.08584870412533903,\n        \"min\": 2.92,\n        \"max\": 3.15,\n        \"num_unique_values\": 5,\n        \"samples\": [\n          3.1,\n          3.15,\n          3.05\n        ],\n        \"semantic_type\": \"\",\n        \"description\": \"\"\n      }\n    },\n    {\n      \"column\": \"Adj. Close\",\n      \"properties\": {\n        \"dtype\": \"number\",\n        \"std\": 0.08584870412533904,\n        \"min\": 2.82,\n        \"max\": 3.05,\n        \"num_unique_values\": 5,\n        \"samples\": [\n          3.0,\n          3.05,\n          2.95\n        ],\n        \"semantic_type\": \"\",\n        \"description\": \"\"\n      }\n    },\n    {\n      \"column\": \"Volume\",\n      \"properties\": {\n        \"dtype\": \"number\",\n        \"std\": 2224802,\n        \"min\": 5314000,\n        \"max\": 11161200,\n        \"num_unique_values\": 5,\n        \"samples\": [\n          9616800,\n          11161200,\n          7338400\n        ],\n        \"semantic_type\": \"\",\n        \"description\": \"\"\n      }\n    }\n  ]\n}"
            }
          },
          "metadata": {}
        }
      ]
    },
    {
      "cell_type": "markdown",
      "source": [
        "## 7. Create Function to Generate Sequences for Time Series Forecasting\n",
        "\n",
        "We're going to predict future stock prices from past prices. This function creates a list of (past-prices,future-price) data/target pairs that we can plug into our learning method.\n"
      ],
      "metadata": {
        "id": "Cx-2D-HGiN_A"
      }
    },
    {
      "cell_type": "code",
      "source": [
        "# Create sequences for time series forecasting\n",
        "def create_sequences(data, seq_length):\n",
        "    \"\"\"\n",
        "      Generates input sequences and target values for time series forecasting.\n",
        "\n",
        "      Args:\n",
        "          data (array-like): The full time series data.\n",
        "          seq_length (int): The number of time steps in each input sequence.\n",
        "\n",
        "      Returns:\n",
        "          Tuple (np.ndarray, np.ndarray):\n",
        "          - sequences: Array of shape (num_samples, seq_length), each containing a sequence of past values.\n",
        "          - targets: Array of shape (num_samples,), each containing the next value in the series.\n",
        "      \"\"\"\n",
        "    sequences = []  # Stores input sequences\n",
        "    targets = []    # Stores corresponding target values\n",
        "    for i in range(len(data) - seq_length):\n",
        "        sequences.append(data[i:i+seq_length])  # Extract a sequence of 'seq_length' time steps\n",
        "        targets.append(data[i+seq_length])  # Store the next value as the target\n",
        "    return np.array(sequences), np.array(targets)  # Convert lists to NumPy arrays for efficiency"
      ],
      "metadata": {
        "id": "1wF95CpPg5I7"
      },
      "execution_count": 7,
      "outputs": []
    },
    {
      "cell_type": "markdown",
      "source": [
        "## 8. Create Time Series Forecasting Sequences\n",
        "\n",
        "Use the function above to create (past-prices,future-price) pairs for the GameStop data processed above.  Also, generate a bit of debugging output for sanity-checking."
      ],
      "metadata": {
        "id": "OZgMNcLginlC"
      }
    },
    {
      "cell_type": "code",
      "source": [
        "# Create time series forecasting sequences\n",
        "\n",
        "seq_length = 10  # Using past 10 days to predict the next day\n",
        "X, y = create_sequences(normalized_data, seq_length) #\n",
        "\n",
        "# Create an array to store the dates associated with the predicted values\n",
        "# The first predicted value occurs on the date after the first sequence\n",
        "dates = df_processed.index[seq_length:]\n",
        "\n",
        "# Print shape of input features and targets\n",
        "print(f\"Shape of input features: {X.shape}\")\n",
        "print(f\"Shape of targets: {y.shape}\")\n",
        "\n",
        "# Print the first five input series and targets\n",
        "# Use theses examples to verify that the target of a previous input series becomes the last entry of the new input series\n",
        "for i in range(5):\n",
        "\n",
        "  print(\"\\n\")\n",
        "  print(f\"Historical Sequence {i}:\")\n",
        "  print(X[i])\n",
        "\n",
        "  print(f\"Predicted Next Day Price {i}:\")\n",
        "  print(y[i])\n"
      ],
      "metadata": {
        "id": "GNN6K8r7g6lv",
        "outputId": "a263efba-5667-46d7-e516-ae4d468b4ade",
        "colab": {
          "base_uri": "https://localhost:8080/"
        }
      },
      "execution_count": 8,
      "outputs": [
        {
          "output_type": "stream",
          "name": "stdout",
          "text": [
            "Shape of input features: (4240, 10, 1)\n",
            "Shape of targets: (4240, 1)\n",
            "\n",
            "\n",
            "Historical Sequence 0:\n",
            "[[0.10490921]\n",
            " [0.10423672]\n",
            " [0.10356422]\n",
            " [0.09683927]\n",
            " [0.10221923]\n",
            " [0.10154674]\n",
            " [0.09885676]\n",
            " [0.10020175]\n",
            " [0.10020175]\n",
            " [0.09683927]]\n",
            "Predicted Next Day Price 0:\n",
            "[0.09683927]\n",
            "\n",
            "\n",
            "Historical Sequence 1:\n",
            "[[0.10423672]\n",
            " [0.10356422]\n",
            " [0.09683927]\n",
            " [0.10221923]\n",
            " [0.10154674]\n",
            " [0.09885676]\n",
            " [0.10020175]\n",
            " [0.10020175]\n",
            " [0.09683927]\n",
            " [0.09683927]]\n",
            "Predicted Next Day Price 1:\n",
            "[0.09885676]\n",
            "\n",
            "\n",
            "Historical Sequence 2:\n",
            "[[0.10356422]\n",
            " [0.09683927]\n",
            " [0.10221923]\n",
            " [0.10154674]\n",
            " [0.09885676]\n",
            " [0.10020175]\n",
            " [0.10020175]\n",
            " [0.09683927]\n",
            " [0.09683927]\n",
            " [0.09885676]]\n",
            "Predicted Next Day Price 2:\n",
            "[0.10154674]\n",
            "\n",
            "\n",
            "Historical Sequence 3:\n",
            "[[0.09683927]\n",
            " [0.10221923]\n",
            " [0.10154674]\n",
            " [0.09885676]\n",
            " [0.10020175]\n",
            " [0.10020175]\n",
            " [0.09683927]\n",
            " [0.09683927]\n",
            " [0.09885676]\n",
            " [0.10154674]]\n",
            "Predicted Next Day Price 3:\n",
            "[0.09818426]\n",
            "\n",
            "\n",
            "Historical Sequence 4:\n",
            "[[0.10221923]\n",
            " [0.10154674]\n",
            " [0.09885676]\n",
            " [0.10020175]\n",
            " [0.10020175]\n",
            " [0.09683927]\n",
            " [0.09683927]\n",
            " [0.09885676]\n",
            " [0.10154674]\n",
            " [0.09818426]]\n",
            "Predicted Next Day Price 4:\n",
            "[0.09885676]\n"
          ]
        }
      ]
    },
    {
      "cell_type": "markdown",
      "source": [
        "## 9. Split the Data into Training, Validation, and Test Sets\n",
        "\n",
        "Time to do machine learning. We're doing multiple-classifier evaluation, so we'll need training, validation, and testing sets."
      ],
      "metadata": {
        "id": "tNnCyGwOis6-"
      }
    },
    {
      "cell_type": "code",
      "source": [
        "# Ensure test set represents most recent data\n",
        "split_index = int(len(X) * 0.6)\n",
        "X_train, X_temp, y_train, y_temp, dates_train, dates_temp = X[:split_index], X[split_index:], y[:split_index], y[split_index:], dates[:split_index], dates[split_index:]\n",
        "\n",
        "# Print training shapes\n",
        "print(f\"Shape of X_train: {X_train.shape}\")\n",
        "print(f\"Shape of y_train: {y_train.shape}\")\n",
        "print(f\"Shape of dates_train: {dates_train.shape}\")\n",
        "print(\"\\n\")\n",
        "\n",
        "X_val, X_test, y_val, y_test, dates_val, dates_test = X_temp[:len(X_temp)//2], X_temp[len(X_temp)//2:], y_temp[:len(y_temp)//2], y_temp[len(y_temp)//2:], dates_temp[:len(dates_temp)//2], dates_temp[len(dates_temp)//2:]\n",
        "\n",
        "# Print validation shapes\n",
        "print(f\"Shape of X_val: {X_val.shape}\")\n",
        "print(f\"Shape of y_val: {y_val.shape}\")\n",
        "print(f\"Shape of dates_val: {dates_val.shape}\")\n",
        "print(\"\\n\")\n",
        "\n",
        "# Print test shapes\n",
        "print(f\"Shape of X_test: {X_test.shape}\")\n",
        "print(f\"Shape of y_test: {y_test.shape}\")\n",
        "print(f\"Shape of dates_test: {dates_test.shape}\")"
      ],
      "metadata": {
        "id": "r_TlOlhTg_Zr",
        "outputId": "ce430b11-25e5-4985-ee10-71a68f55fb77",
        "colab": {
          "base_uri": "https://localhost:8080/"
        }
      },
      "execution_count": 9,
      "outputs": [
        {
          "output_type": "stream",
          "name": "stdout",
          "text": [
            "Shape of X_train: (2544, 10, 1)\n",
            "Shape of y_train: (2544, 1)\n",
            "Shape of dates_train: (2544,)\n",
            "\n",
            "\n",
            "Shape of X_val: (848, 10, 1)\n",
            "Shape of y_val: (848, 1)\n",
            "Shape of dates_val: (848,)\n",
            "\n",
            "\n",
            "Shape of X_test: (848, 10, 1)\n",
            "Shape of y_test: (848, 1)\n",
            "Shape of dates_test: (848,)\n"
          ]
        }
      ]
    },
    {
      "cell_type": "markdown",
      "source": [
        "## 10. Convert data to PyTorch tensors\n",
        "\n",
        "In order to utilize a GPU you must remember to move the tensor to the devivce."
      ],
      "metadata": {
        "id": "a4u1W6-hjjLo"
      }
    },
    {
      "cell_type": "code",
      "source": [
        "# Convert to PyTorch tensors and move to device\n",
        "X_train = torch.tensor(X_train, dtype=torch.float32).to(device)\n",
        "y_train = torch.tensor(y_train, dtype=torch.float32).to(device)\n",
        "X_val = torch.tensor(X_val, dtype=torch.float32).to(device)\n",
        "y_val = torch.tensor(y_val, dtype=torch.float32).to(device)\n",
        "X_test = torch.tensor(X_test, dtype=torch.float32).to(device)\n",
        "y_test = torch.tensor(y_test, dtype=torch.float32).to(device)"
      ],
      "metadata": {
        "id": "hPSdmDzGhBlt"
      },
      "execution_count": 10,
      "outputs": []
    },
    {
      "cell_type": "markdown",
      "source": [
        "## 11. Define the Fully Connected Neural Network (FCN) Regressor\n",
        "\n",
        "The regression model consists of:\n",
        "\n",
        "*  An input layer with 'input_dim' neurons. The number of features in the input (length of the time series sequence).\n",
        "*  Three fully connected (FC) layers.\n",
        "*  ReLU activation applied after the first and second FC layers.\n",
        "*  A final output layer with a single neuron to predict the stock price. Since this is a regression task, the final layer remains linear.\n",
        "\n",
        "In regression tasks, the goal is to predict continuous values rather than classify inputs into discrete categories.\n",
        "\n",
        "Note the style difference - the layers are defined in the constructor, but the linking-together of layers is performed explicitly in the `forward()` method.  In most past example, a `torch.nn.Sequential` tied the layers together in the constructor, which makes the `forward()` method very simple."
      ],
      "metadata": {
        "id": "sWEKK_inlu_J"
      }
    },
    {
      "cell_type": "code",
      "source": [
        "# Define the Fully Connected Neural Network (FCNN) for stock price prediction\n",
        "class StockPredictor(nn.Module):\n",
        "    def __init__(self, input_dim):\n",
        "        super(StockPredictor, self).__init__()\n",
        "        self.fc1 = nn.Linear(input_dim, 64)  # First fully connected layer (input to hidden)\n",
        "        self.relu = nn.ReLU()  # ReLU activation function\n",
        "        self.fc2 = nn.Linear(64, 32)  # Second fully connected layer\n",
        "        self.fc3 = nn.Linear(32, 1)  # Output layer (predicts the stock price)\n",
        "\n",
        "    def forward(self, x):\n",
        "        x = self.relu(self.fc1(x))  # Apply first FC layer and ReLU activation\n",
        "        x = self.relu(self.fc2(x))  # Apply second FC layer and ReLU activation\n",
        "        x = self.fc3(x)  # Output layer (no activation function, as we predict a continuous value)\n",
        "        return x\n"
      ],
      "metadata": {
        "id": "GYKwrPL-hIjc"
      },
      "execution_count": 11,
      "outputs": []
    },
    {
      "cell_type": "markdown",
      "source": [
        "## 12. Create the training function"
      ],
      "metadata": {
        "id": "uBL-WzXgkmFM"
      }
    },
    {
      "cell_type": "code",
      "source": [
        "# Define a function to train the PyTorch model\n",
        "def train_model(model, criterion, optimizer, X_train, y_train, X_val, y_val, num_epochs=50):\n",
        "    # Lists to store training and validation loss for each epoch\n",
        "    train_losses = []\n",
        "    val_losses = []\n",
        "\n",
        "    # Loop over the number of epochs\n",
        "    for epoch in range(num_epochs):\n",
        "        # Set the model to training mode (enables dropout, batch norm updates, etc.)\n",
        "        model.train()\n",
        "\n",
        "        # Zero the parameter gradients to avoid accumulation from previous iterations\n",
        "        optimizer.zero_grad()\n",
        "\n",
        "        # Forward pass: Compute the model's predictions for the training data\n",
        "        # The input is reshaped to flatten its dimensions if necessary\n",
        "        outputs = model(X_train.view(X_train.shape[0], -1))\n",
        "\n",
        "        # Compute the loss between predictions and actual training labels\n",
        "        loss = criterion(outputs, y_train)\n",
        "\n",
        "        # Backward pass: Compute gradients for each parameter\n",
        "        loss.backward()\n",
        "\n",
        "        # Update model parameters using the optimizer\n",
        "        optimizer.step()\n",
        "\n",
        "        # Store the training loss for this epoch\n",
        "        train_losses.append(loss.item())\n",
        "\n",
        "        # Switch to evaluation mode (disables dropout, batch norm updates)\n",
        "        model.eval()\n",
        "        with torch.no_grad():  # Disable gradient calculation for validation (reduces memory usage)\n",
        "            # Compute the model's predictions for the validation data\n",
        "            val_outputs = model(X_val.view(X_val.shape[0], -1))\n",
        "\n",
        "            # Compute the loss between predictions and actual validation labels\n",
        "            val_loss = criterion(val_outputs, y_val)\n",
        "\n",
        "            # Store the validation loss for this epoch\n",
        "            val_losses.append(val_loss.item())\n",
        "\n",
        "        # Print training and validation loss every 10 epochs\n",
        "        if (epoch + 1) % 10 == 0:\n",
        "            print(f'Epoch [{epoch+1}/{num_epochs}], Loss: {loss.item():.4f}, Val Loss: {val_loss.item():.4f}')\n",
        "\n",
        "    # Return the recorded training and validation losses\n",
        "    return train_losses, val_losses\n"
      ],
      "metadata": {
        "id": "fDejFnLdhKOt"
      },
      "execution_count": 12,
      "outputs": []
    },
    {
      "cell_type": "markdown",
      "source": [
        "## 13. Create the Evaluation Function"
      ],
      "metadata": {
        "id": "amRkS8o2kqnZ"
      }
    },
    {
      "cell_type": "code",
      "source": [
        "# Define a function to evaluate the model's performance on test data\n",
        "def evaluate_model(model, X_test, y_test, scaler):\n",
        "    # Set the model to evaluation mode (disables dropout, batch norm updates, etc.)\n",
        "    model.eval()\n",
        "\n",
        "    # Disable gradient computation for inference (reduces memory usage and speeds up computation)\n",
        "    with torch.no_grad():\n",
        "        # Pass the test input through the model after flattening it (if necessary)\n",
        "        # The output is moved to CPU and converted to a NumPy array\n",
        "        predictions = model(X_test.view(X_test.shape[0], -1)).cpu().numpy()\n",
        "\n",
        "    # Reverse the scaling transformation applied during preprocessing to get predictions in original scale\n",
        "    predictions = scaler.inverse_transform(predictions)\n",
        "\n",
        "    # Convert ground truth labels from PyTorch tensors to NumPy arrays and reverse their scaling\n",
        "    y_test = scaler.inverse_transform(y_test.cpu().numpy().reshape(-1, 1))\n",
        "\n",
        "    # Return both the predicted and actual values\n",
        "    return predictions, y_test\n"
      ],
      "metadata": {
        "id": "8ETfPrm7hLi8"
      },
      "execution_count": 13,
      "outputs": []
    },
    {
      "cell_type": "markdown",
      "source": [
        "## 14. Create a Function to Plot Training and Validation Loss"
      ],
      "metadata": {
        "id": "OcuFVcvml8gG"
      }
    },
    {
      "cell_type": "code",
      "source": [
        "# Define a function for plotting the loss by epoch\n",
        "def plot_loss(train_losses, val_losses):\n",
        "    plt.plot(train_losses, label='Training Loss')\n",
        "    plt.plot(val_losses, label='Validation Loss')\n",
        "    plt.xlabel('Epoch')\n",
        "    plt.ylabel('Loss')\n",
        "    plt.title('Training and Validation Loss Over Time')\n",
        "    plt.legend()\n",
        "    plt.show()\n"
      ],
      "metadata": {
        "id": "Zdp8EbpKhMqM"
      },
      "execution_count": 14,
      "outputs": []
    },
    {
      "cell_type": "markdown",
      "source": [
        "## 15. Create a Function to Plot Predictions"
      ],
      "metadata": {
        "id": "NdZOdHBhl-np"
      }
    },
    {
      "cell_type": "code",
      "source": [
        "# Define a function for plotting predictions\n",
        "def plot_predictions(dates_test, y_test, predictions):\n",
        "    plt.figure(figsize=(10,5))\n",
        "    plt.plot(dates_test, y_test, label='Actual Prices')\n",
        "    plt.plot(dates_test, predictions, label='Predicted Prices')\n",
        "    plt.legend()\n",
        "    plt.xlabel('Date')\n",
        "    plt.ylabel('Closing Price')\n",
        "    plt.title('Stock Price Prediction')\n",
        "    plt.xticks(rotation=45)\n",
        "    plt.show()\n"
      ],
      "metadata": {
        "id": "Ju8kd7DfhNjF"
      },
      "execution_count": 15,
      "outputs": []
    },
    {
      "cell_type": "markdown",
      "source": [
        "## 16. Create a Function to Print Example Predictions"
      ],
      "metadata": {
        "id": "ejUkvptpmEZw"
      }
    },
    {
      "cell_type": "code",
      "source": [
        "# Define a function for displaying example predictions\n",
        "def print_example_predictions(X_test, y_test, predictions, scaler, dates_test):\n",
        "    print(\"Example Predictions vs Actuals:\")\n",
        "    for i in range(10):\n",
        "        input_sequence = np.round(scaler.inverse_transform(X_test[i].cpu().numpy().reshape(-1, 1)).flatten(), 2)\n",
        "        print(f\"Date: {dates_test[i].date()} Input: {input_sequence} Predicted: {predictions[i][0]:.2f}, Actual: {y_test[i][0]:.2f}\")\n"
      ],
      "metadata": {
        "id": "tAioyJEfhOe1"
      },
      "execution_count": 16,
      "outputs": []
    },
    {
      "cell_type": "markdown",
      "source": [
        "## 17. Instantiate the Model\n",
        "\n",
        "Make sure the model is on the `device`."
      ],
      "metadata": {
        "id": "XwtGVJ0_mXxp"
      }
    },
    {
      "cell_type": "code",
      "source": [
        "# Instantiate the model\n",
        "model = StockPredictor(seq_length).to(device)\n",
        "\n",
        "# View the model's details\n",
        "print(model)"
      ],
      "metadata": {
        "id": "IPDJKZVtmDiE",
        "outputId": "c74f2061-537c-4c1b-d3f6-12abe09bf795",
        "colab": {
          "base_uri": "https://localhost:8080/"
        }
      },
      "execution_count": 17,
      "outputs": [
        {
          "output_type": "stream",
          "name": "stdout",
          "text": [
            "StockPredictor(\n",
            "  (fc1): Linear(in_features=10, out_features=64, bias=True)\n",
            "  (relu): ReLU()\n",
            "  (fc2): Linear(in_features=64, out_features=32, bias=True)\n",
            "  (fc3): Linear(in_features=32, out_features=1, bias=True)\n",
            ")\n"
          ]
        }
      ]
    },
    {
      "cell_type": "markdown",
      "source": [
        "## 18. Define Loss Function and Optimizer\n",
        "\n",
        "In regression, we're estimating a numerical target, and the loss should measure the deviation between the known value and the predicted value. `MSELoss()` is the main choice for a loss function (but there are others)."
      ],
      "metadata": {
        "id": "ko7VwpA3mgFI"
      }
    },
    {
      "cell_type": "code",
      "source": [
        "# Define the loss function (Mean Squared Error for regression tasks)\n",
        "criterion = nn.MSELoss()\n",
        "\n",
        "# Define the optimizer\n",
        "# Note: The optimizer requires the model's parameters, so the model must be instantiated before defining the optimizer.\n",
        "optimizer = optim.Adam(model.parameters(), lr=0.001)"
      ],
      "metadata": {
        "id": "pYYsK_ekmeHY"
      },
      "execution_count": 18,
      "outputs": []
    },
    {
      "cell_type": "markdown",
      "source": [
        "## 19. Train the Model"
      ],
      "metadata": {
        "id": "xHMzPNG-mti7"
      }
    },
    {
      "cell_type": "code",
      "source": [
        "# Train the model\n",
        "train_losses, val_losses = train_model(model, criterion, optimizer, X_train, y_train, X_val, y_val)\n",
        "\n",
        "# Plot the training and validation loss\n",
        "plot_loss(train_losses, val_losses)"
      ],
      "metadata": {
        "id": "kMXKnmw1mfKX",
        "outputId": "9c5a64b4-3c6b-4f2a-bbea-8af38d847744",
        "colab": {
          "base_uri": "https://localhost:8080/",
          "height": 561
        }
      },
      "execution_count": 19,
      "outputs": [
        {
          "output_type": "stream",
          "name": "stdout",
          "text": [
            "Epoch [10/50], Loss: 0.2222, Val Loss: 0.4138\n",
            "Epoch [20/50], Loss: 0.1061, Val Loss: 0.2067\n",
            "Epoch [30/50], Loss: 0.0305, Val Loss: 0.0605\n",
            "Epoch [40/50], Loss: 0.0030, Val Loss: 0.0021\n",
            "Epoch [50/50], Loss: 0.0064, Val Loss: 0.0035\n"
          ]
        },
        {
          "output_type": "display_data",
          "data": {
            "text/plain": [
              "<Figure size 640x480 with 1 Axes>"
            ],
            "image/png": "[encoded data removed]"
          },
          "metadata": {}
        }
      ]
    },
    {
      "cell_type": "markdown",
      "source": [
        "## 20. Test the Model"
      ],
      "metadata": {
        "id": "5jL8q6ARm0R1"
      }
    },
    {
      "cell_type": "code",
      "source": [
        "# Evaluate the model\n",
        "predictions, y_test = evaluate_model(model, X_test, y_test, scaler)\n",
        "\n",
        "# Print example predictions\n",
        "print_example_predictions(X_test, y_test, predictions, scaler, dates_test)\n",
        "\n",
        "# Plot all predictions\n",
        "plot_predictions(dates_test, y_test, predictions)"
      ],
      "metadata": {
        "id": "AzAnOIkSms0w",
        "outputId": "c770ebed-d9da-4f53-b629-72b7ab64469b",
        "colab": {
          "base_uri": "https://localhost:8080/",
          "height": 720
        }
      },
      "execution_count": 20,
      "outputs": [
        {
          "output_type": "stream",
          "name": "stdout",
          "text": [
            "Example Predictions vs Actuals:\n",
            "Date: 2015-08-19 Input: [11.6  11.34 11.29 11.45 11.43 11.4  11.52 11.86 11.74 11.75] Predicted: 12.22, Actual: 11.61\n",
            "Date: 2015-08-20 Input: [11.34 11.29 11.45 11.43 11.4  11.52 11.86 11.74 11.75 11.61] Predicted: 12.26, Actual: 11.31\n",
            "Date: 2015-08-21 Input: [11.29 11.45 11.43 11.4  11.52 11.86 11.74 11.75 11.61 11.31] Predicted: 12.21, Actual: 11.21\n",
            "Date: 2015-08-24 Input: [11.45 11.43 11.4  11.52 11.86 11.74 11.75 11.61 11.31 11.21] Predicted: 12.18, Actual: 10.74\n",
            "Date: 2015-08-25 Input: [11.43 11.4  11.52 11.86 11.74 11.75 11.61 11.31 11.21 10.74] Predicted: 12.07, Actual: 10.97\n",
            "Date: 2015-08-26 Input: [11.4  11.52 11.86 11.74 11.75 11.61 11.31 11.21 10.74 10.97] Predicted: 12.02, Actual: 11.34\n",
            "Date: 2015-08-27 Input: [11.52 11.86 11.74 11.75 11.61 11.31 11.21 10.74 10.97 11.34] Predicted: 12.03, Actual: 11.55\n",
            "Date: 2015-08-28 Input: [11.86 11.74 11.75 11.61 11.31 11.21 10.74 10.97 11.34 11.55] Predicted: 12.00, Actual: 10.62\n",
            "Date: 2015-08-31 Input: [11.74 11.75 11.61 11.31 11.21 10.74 10.97 11.34 11.55 10.62] Predicted: 11.85, Actual: 10.62\n",
            "Date: 2015-09-01 Input: [11.75 11.61 11.31 11.21 10.74 10.97 11.34 11.55 10.62 10.62] Predicted: 11.75, Actual: 10.30\n"
          ]
        },
        {
          "output_type": "display_data",
          "data": {
            "text/plain": [
              "<Figure size 1000x500 with 1 Axes>"
            ],
            "image/png": "[encoded data removed]"
          },
          "metadata": {}
        }
      ]
    },
    {
      "cell_type": "markdown",
      "source": [
        "# Student Work"
      ],
      "metadata": {
        "id": "BkQDyeJV4rNa"
      }
    },
    {
      "cell_type": "markdown",
      "source": [
        "## 1. Part 1: Model Analysis\n",
        "\n",
        "1. In your opinion how did the model perform at predicting the price of the stock? Would you trust this model to pick stocks for you?"
      ],
      "metadata": {
        "id": "KpQH2n-Iqyty"
      }
    },
    {
      "cell_type": "markdown",
      "source": [
        "    Answer: It is hard to say what is \"close\" to the price without some sort of edge to compare against.  I'd say I'd trust this model since it was only off by less than a dollar the whole time."
      ],
      "metadata": {
        "id": "TI7aneWnDH1k"
      }
    },
    {
      "cell_type": "markdown",
      "source": [
        "2. Let's see how the model performs with the same stock data, but a different timeframe. Create a new dataset using the same stock, but filter the data so that it only contains data from 01/01/2021 to 04/01/2021.\n",
        "\n"
      ],
      "metadata": {
        "id": "doQNzDZlr1wT"
      }
    },
    {
      "cell_type": "code",
      "source": [
        "# PRACTICAL CODE GOES HERE!\n",
        "\n",
        "# Create your dataset below\n",
        "# Hint: Use the function provided in the example.\n",
        "# Make sure to filter include the correct date filter. (Reminder of date format: \"YYYY-MM-DD\")\n",
        "normalized_data, scaler, df_processed = preprocess_financial_data(gme[0], start_date=\"2021-01-01\", end_date=\"2021-04-01\")\n",
        "\n",
        "# Display first and last few rows of processed DataFrame\n",
        "\n",
        "print(\"\\n\")\n",
        "print(\"First rows of the dataset\")\n",
        "display(df_processed.head())\n",
        "\n",
        "print(\"\\n\")\n",
        "print(\"Last rows of the dataset\")\n",
        "display(df_processed.tail())\n",
        "\n",
        "print(\"\\n\")\n",
        "print(normalized_data.shape)"
      ],
      "metadata": {
        "id": "zipziMnatT0y",
        "outputId": "db3d1ffe-c27c-4b3e-a66d-29a564a2f9d2",
        "colab": {
          "base_uri": "https://localhost:8080/",
          "height": 619
        }
      },
      "execution_count": 21,
      "outputs": [
        {
          "output_type": "stream",
          "name": "stdout",
          "text": [
            "\n",
            "\n",
            "First rows of the dataset\n"
          ]
        },
        {
          "output_type": "display_data",
          "data": {
            "text/plain": [
              "            Open  High   Low  Close  Adj. Close    Volume\n",
              "Date                                                     \n",
              "2021-01-04  4.75  4.78  4.29   4.31        4.31  40090000\n",
              "2021-01-05  4.34  4.52  4.31   4.34        4.34  19846000\n",
              "2021-01-06  4.34  4.74  4.33   4.59        4.59  24224800\n",
              "2021-01-07  4.62  4.86  4.51   4.52        4.52  24517200\n",
              "2021-01-08  4.55  4.57  4.27   4.42        4.42  25928000"
            ],
            "text/html": [
              "\n",
              "  <div id=\"df-7c95f1f8-f8d5-4e6f-9f2e-eae0003ef099\" class=\"colab-df-container\">\n",
              "    <div>\n",
              "<style scoped>\n",
              "    .dataframe tbody tr th:only-of-type {\n",
              "        vertical-align: middle;\n",
              "    }\n",
              "\n",
              "    .dataframe tbody tr th {\n",
              "        vertical-align: top;\n",
              "    }\n",
              "\n",
              "    .dataframe thead th {\n",
              "        text-align: right;\n",
              "    }\n",
              "</style>\n",
              "<table border=\"1\" class=\"dataframe\">\n",
              "  <thead>\n",
              "    <tr style=\"text-align: right;\">\n",
              "      <th></th>\n",
              "      <th>Open</th>\n",
              "      <th>High</th>\n",
              "      <th>Low</th>\n",
              "      <th>Close</th>\n",
              "      <th>Adj. Close</th>\n",
              "      <th>Volume</th>\n",
              "    </tr>\n",
              "    <tr>\n",
              "      <th>Date</th>\n",
              "      <th></th>\n",
              "      <th></th>\n",
              "      <th></th>\n",
              "      <th></th>\n",
              "      <th></th>\n",
              "      <th></th>\n",
              "    </tr>\n",
              "  </thead>\n",
              "  <tbody>\n",
              "    <tr>\n",
              "      <th>2021-01-04</th>\n",
              "      <td>4.75</td>\n",
              "      <td>4.78</td>\n",
              "      <td>4.29</td>\n",
              "      <td>4.31</td>\n",
              "      <td>4.31</td>\n",
              "      <td>40090000</td>\n",
              "    </tr>\n",
              "    <tr>\n",
              "      <th>2021-01-05</th>\n",
              "      <td>4.34</td>\n",
              "      <td>4.52</td>\n",
              "      <td>4.31</td>\n",
              "      <td>4.34</td>\n",
              "      <td>4.34</td>\n",
              "      <td>19846000</td>\n",
              "    </tr>\n",
              "    <tr>\n",
              "      <th>2021-01-06</th>\n",
              "      <td>4.34</td>\n",
              "      <td>4.74</td>\n",
              "      <td>4.33</td>\n",
              "      <td>4.59</td>\n",
              "      <td>4.59</td>\n",
              "      <td>24224800</td>\n",
              "    </tr>\n",
              "    <tr>\n",
              "      <th>2021-01-07</th>\n",
              "      <td>4.62</td>\n",
              "      <td>4.86</td>\n",
              "      <td>4.51</td>\n",
              "      <td>4.52</td>\n",
              "      <td>4.52</td>\n",
              "      <td>24517200</td>\n",
              "    </tr>\n",
              "    <tr>\n",
              "      <th>2021-01-08</th>\n",
              "      <td>4.55</td>\n",
              "      <td>4.57</td>\n",
              "      <td>4.27</td>\n",
              "      <td>4.42</td>\n",
              "      <td>4.42</td>\n",
              "      <td>25928000</td>\n",
              "    </tr>\n",
              "  </tbody>\n",
              "</table>\n",
              "</div>\n",
              "    <div class=\"colab-df-buttons\">\n",
              "\n",
              "  <div class=\"colab-df-container\">\n",
              "    <button class=\"colab-df-convert\" onclick=\"convertToInteractive('df-7c95f1f8-f8d5-4e6f-9f2e-eae0003ef099')\"\n",
              "            title=\"Convert this dataframe to an interactive table.\"\n",
              "            style=\"display:none;\">\n",
              "\n",
              "  <svg xmlns=\"http://www.w3.org/2000/svg\" height=\"24px\" viewBox=\"0 -960 960 960\">\n",
              "    <path d=\"M120-120v-720h720v720H120Zm60-500h600v-160H180v160Zm220 220h160v-160H400v160Zm0 220h160v-160H400v160ZM180-400h160v-160H180v160Zm440 0h160v-160H620v160ZM180-180h160v-160H180v160Zm440 0h160v-160H620v160Z\"/>\n",
              "  </svg>\n",
              "    </button>\n",
              "\n",
              "  <style>\n",
              "    .colab-df-container {\n",
              "      display:flex;\n",
              "      gap: 12px;\n",
              "    }\n",
              "\n",
              "    .colab-df-convert {\n",
              "      background-color: #E8F0FE;\n",
              "      border: none;\n",
              "      border-radius: 50%;\n",
              "      cursor: pointer;\n",
              "      display: none;\n",
              "      fill: #1967D2;\n",
              "      height: 32px;\n",
              "      padding: 0 0 0 0;\n",
              "      width: 32px;\n",
              "    }\n",
              "\n",
              "    .colab-df-convert:hover {\n",
              "      background-color: #E2EBFA;\n",
              "      box-shadow: 0px 1px 2px rgba(60, 64, 67, 0.3), 0px 1px 3px 1px rgba(60, 64, 67, 0.15);\n",
              "      fill: #174EA6;\n",
              "    }\n",
              "\n",
              "    .colab-df-buttons div {\n",
              "      margin-bottom: 4px;\n",
              "    }\n",
              "\n",
              "    [theme=dark] .colab-df-convert {\n",
              "      background-color: #3B4455;\n",
              "      fill: #D2E3FC;\n",
              "    }\n",
              "\n",
              "    [theme=dark] .colab-df-convert:hover {\n",
              "      background-color: #434B5C;\n",
              "      box-shadow: 0px 1px 3px 1px rgba(0, 0, 0, 0.15);\n",
              "      filter: drop-shadow(0px 1px 2px rgba(0, 0, 0, 0.3));\n",
              "      fill: #FFFFFF;\n",
              "    }\n",
              "  </style>\n",
              "\n",
              "    <script>\n",
              "      const buttonEl =\n",
              "        document.querySelector('#df-7c95f1f8-f8d5-4e6f-9f2e-eae0003ef099 button.colab-df-convert');\n",
              "      buttonEl.style.display =\n",
              "        google.colab.kernel.accessAllowed ? 'block' : 'none';\n",
              "\n",
              "      async function convertToInteractive(key) {\n",
              "        const element = document.querySelector('#df-7c95f1f8-f8d5-4e6f-9f2e-eae0003ef099');\n",
              "        const dataTable =\n",
              "          await google.colab.kernel.invokeFunction('convertToInteractive',\n",
              "                                                    [key], {});\n",
              "        if (!dataTable) return;\n",
              "\n",
              "        const docLinkHtml = 'Like what you see? Visit the ' +\n",
              "          '<a target=\"_blank\" href=https://colab.research.google.com/notebooks/data_table.ipynb>data table notebook</a>'\n",
              "          + ' to learn more about interactive tables.';\n",
              "        element.innerHTML = '';\n",
              "        dataTable['output_type'] = 'display_data';\n",
              "        await google.colab.output.renderOutput(dataTable, element);\n",
              "        const docLink = document.createElement('div');\n",
              "        docLink.innerHTML = docLinkHtml;\n",
              "        element.appendChild(docLink);\n",
              "      }\n",
              "    </script>\n",
              "  </div>\n",
              "\n",
              "\n",
              "<div id=\"df-a9cda7fb-3263-49bc-8442-1495f58f0520\">\n",
              "  <button class=\"colab-df-quickchart\" onclick=\"quickchart('df-a9cda7fb-3263-49bc-8442-1495f58f0520')\"\n",
              "            title=\"Suggest charts\"\n",
              "            style=\"display:none;\">\n",
              "\n",
              "<svg xmlns=\"http://www.w3.org/2000/svg\" height=\"24px\"viewBox=\"0 0 24 24\"\n",
              "     width=\"24px\">\n",
              "    <g>\n",
              "        <path d=\"M19 3H5c-1.1 0-2 .9-2 2v14c0 1.1.9 2 2 2h14c1.1 0 2-.9 2-2V5c0-1.1-.9-2-2-2zM9 17H7v-7h2v7zm4 0h-2V7h2v10zm4 0h-2v-4h2v4z\"/>\n",
              "    </g>\n",
              "</svg>\n",
              "  </button>\n",
              "\n",
              "<style>\n",
              "  .colab-df-quickchart {\n",
              "      --bg-color: #E8F0FE;\n",
              "      --fill-color: #1967D2;\n",
              "      --hover-bg-color: #E2EBFA;\n",
              "      --hover-fill-color: #174EA6;\n",
              "      --disabled-fill-color: #AAA;\n",
              "      --disabled-bg-color: #DDD;\n",
              "  }\n",
              "\n",
              "  [theme=dark] .colab-df-quickchart {\n",
              "      --bg-color: #3B4455;\n",
              "      --fill-color: #D2E3FC;\n",
              "      --hover-bg-color: #434B5C;\n",
              "      --hover-fill-color: #FFFFFF;\n",
              "      --disabled-bg-color: #3B4455;\n",
              "      --disabled-fill-color: #666;\n",
              "  }\n",
              "\n",
              "  .colab-df-quickchart {\n",
              "    background-color: var(--bg-color);\n",
              "    border: none;\n",
              "    border-radius: 50%;\n",
              "    cursor: pointer;\n",
              "    display: none;\n",
              "    fill: var(--fill-color);\n",
              "    height: 32px;\n",
              "    padding: 0;\n",
              "    width: 32px;\n",
              "  }\n",
              "\n",
              "  .colab-df-quickchart:hover {\n",
              "    background-color: var(--hover-bg-color);\n",
              "    box-shadow: 0 1px 2px rgba(60, 64, 67, 0.3), 0 1px 3px 1px rgba(60, 64, 67, 0.15);\n",
              "    fill: var(--button-hover-fill-color);\n",
              "  }\n",
              "\n",
              "  .colab-df-quickchart-complete:disabled,\n",
              "  .colab-df-quickchart-complete:disabled:hover {\n",
              "    background-color: var(--disabled-bg-color);\n",
              "    fill: var(--disabled-fill-color);\n",
              "    box-shadow: none;\n",
              "  }\n",
              "\n",
              "  .colab-df-spinner {\n",
              "    border: 2px solid var(--fill-color);\n",
              "    border-color: transparent;\n",
              "    border-bottom-color: var(--fill-color);\n",
              "    animation:\n",
              "      spin 1s steps(1) infinite;\n",
              "  }\n",
              "\n",
              "  @keyframes spin {\n",
              "    0% {\n",
              "      border-color: transparent;\n",
              "      border-bottom-color: var(--fill-color);\n",
              "      border-left-color: var(--fill-color);\n",
              "    }\n",
              "    20% {\n",
              "      border-color: transparent;\n",
              "      border-left-color: var(--fill-color);\n",
              "      border-top-color: var(--fill-color);\n",
              "    }\n",
              "    30% {\n",
              "      border-color: transparent;\n",
              "      border-left-color: var(--fill-color);\n",
              "      border-top-color: var(--fill-color);\n",
              "      border-right-color: var(--fill-color);\n",
              "    }\n",
              "    40% {\n",
              "      border-color: transparent;\n",
              "      border-right-color: var(--fill-color);\n",
              "      border-top-color: var(--fill-color);\n",
              "    }\n",
              "    60% {\n",
              "      border-color: transparent;\n",
              "      border-right-color: var(--fill-color);\n",
              "    }\n",
              "    80% {\n",
              "      border-color: transparent;\n",
              "      border-right-color: var(--fill-color);\n",
              "      border-bottom-color: var(--fill-color);\n",
              "    }\n",
              "    90% {\n",
              "      border-color: transparent;\n",
              "      border-bottom-color: var(--fill-color);\n",
              "    }\n",
              "  }\n",
              "</style>\n",
              "\n",
              "  <script>\n",
              "    async function quickchart(key) {\n",
              "      const quickchartButtonEl =\n",
              "        document.querySelector('#' + key + ' button');\n",
              "      quickchartButtonEl.disabled = true;  // To prevent multiple clicks.\n",
              "      quickchartButtonEl.classList.add('colab-df-spinner');\n",
              "      try {\n",
              "        const charts = await google.colab.kernel.invokeFunction(\n",
              "            'suggestCharts', [key], {});\n",
              "      } catch (error) {\n",
              "        console.error('Error during call to suggestCharts:', error);\n",
              "      }\n",
              "      quickchartButtonEl.classList.remove('colab-df-spinner');\n",
              "      quickchartButtonEl.classList.add('colab-df-quickchart-complete');\n",
              "    }\n",
              "    (() => {\n",
              "      let quickchartButtonEl =\n",
              "        document.querySelector('#df-a9cda7fb-3263-49bc-8442-1495f58f0520 button');\n",
              "      quickchartButtonEl.style.display =\n",
              "        google.colab.kernel.accessAllowed ? 'block' : 'none';\n",
              "    })();\n",
              "  </script>\n",
              "</div>\n",
              "\n",
              "    </div>\n",
              "  </div>\n"
            ],
            "application/vnd.google.colaboratory.intrinsic+json": {
              "type": "dataframe",
              "summary": "{\n  \"name\": \"print(normalized_data\",\n  \"rows\": 5,\n  \"fields\": [\n    {\n      \"column\": \"Date\",\n      \"properties\": {\n        \"dtype\": \"date\",\n        \"min\": \"2021-01-04 00:00:00\",\n        \"max\": \"2021-01-08 00:00:00\",\n        \"num_unique_values\": 5,\n        \"samples\": [\n          \"2021-01-05 00:00:00\",\n          \"2021-01-08 00:00:00\",\n          \"2021-01-06 00:00:00\"\n        ],\n        \"semantic_type\": \"\",\n        \"description\": \"\"\n      }\n    },\n    {\n      \"column\": \"Open\",\n      \"properties\": {\n        \"dtype\": \"number\",\n        \"std\": 0.17930421077041117,\n        \"min\": 4.34,\n        \"max\": 4.75,\n        \"num_unique_values\": 4,\n        \"samples\": [\n          4.34,\n          4.55,\n          4.75\n        ],\n        \"semantic_type\": \"\",\n        \"description\": \"\"\n      }\n    },\n    {\n      \"column\": \"High\",\n      \"properties\": {\n        \"dtype\": \"number\",\n        \"std\": 0.1438054240979806,\n        \"min\": 4.52,\n        \"max\": 4.86,\n        \"num_unique_values\": 5,\n        \"samples\": [\n          4.52,\n          4.57,\n          4.74\n        ],\n        \"semantic_type\": \"\",\n        \"description\": \"\"\n      }\n    },\n    {\n      \"column\": \"Low\",\n      \"properties\": {\n        \"dtype\": \"number\",\n        \"std\": 0.09654014708917737,\n        \"min\": 4.27,\n        \"max\": 4.51,\n        \"num_unique_values\": 5,\n        \"samples\": [\n          4.31,\n          4.27,\n          4.33\n        ],\n        \"semantic_type\": \"\",\n        \"description\": \"\"\n      }\n    },\n    {\n      \"column\": \"Close\",\n      \"properties\": {\n        \"dtype\": \"number\",\n        \"std\": 0.11844830095868832,\n        \"min\": 4.31,\n        \"max\": 4.59,\n        \"num_unique_values\": 5,\n        \"samples\": [\n          4.34,\n          4.42,\n          4.59\n        ],\n        \"semantic_type\": \"\",\n        \"description\": \"\"\n      }\n    },\n    {\n      \"column\": \"Adj. Close\",\n      \"properties\": {\n        \"dtype\": \"number\",\n        \"std\": 0.11844830095868832,\n        \"min\": 4.31,\n        \"max\": 4.59,\n        \"num_unique_values\": 5,\n        \"samples\": [\n          4.34,\n          4.42,\n          4.59\n        ],\n        \"semantic_type\": \"\",\n        \"description\": \"\"\n      }\n    },\n    {\n      \"column\": \"Volume\",\n      \"properties\": {\n        \"dtype\": \"number\",\n        \"std\": 7705711,\n        \"min\": 19846000,\n        \"max\": 40090000,\n        \"num_unique_values\": 5,\n        \"samples\": [\n          19846000,\n          25928000,\n          24224800\n        ],\n        \"semantic_type\": \"\",\n        \"description\": \"\"\n      }\n    }\n  ]\n}"
            }
          },
          "metadata": {}
        },
        {
          "output_type": "stream",
          "name": "stdout",
          "text": [
            "\n",
            "\n",
            "Last rows of the dataset\n"
          ]
        },
        {
          "output_type": "display_data",
          "data": {
            "text/plain": [
              "             Open   High    Low  Close  Adj. Close     Volume\n",
              "Date                                                         \n",
              "2021-03-26  49.42  54.73  40.81  45.25       45.25  149722800\n",
              "2021-03-29  45.19  48.48  43.38  45.33       45.33   40168800\n",
              "2021-03-30  46.88  51.08  45.50  48.62       48.62   68379600\n",
              "2021-03-31  49.38  49.87  46.78  47.46       47.46   33575200\n",
              "2021-04-01  48.34  49.24  45.90  47.86       47.86   37337200"
            ],
            "text/html": [
              "\n",
              "  <div id=\"df-5811f070-acd3-475f-91ce-b3956eb07f47\" class=\"colab-df-container\">\n",
              "    <div>\n",
              "<style scoped>\n",
              "    .dataframe tbody tr th:only-of-type {\n",
              "        vertical-align: middle;\n",
              "    }\n",
              "\n",
              "    .dataframe tbody tr th {\n",
              "        vertical-align: top;\n",
              "    }\n",
              "\n",
              "    .dataframe thead th {\n",
              "        text-align: right;\n",
              "    }\n",
              "</style>\n",
              "<table border=\"1\" class=\"dataframe\">\n",
              "  <thead>\n",
              "    <tr style=\"text-align: right;\">\n",
              "      <th></th>\n",
              "      <th>Open</th>\n",
              "      <th>High</th>\n",
              "      <th>Low</th>\n",
              "      <th>Close</th>\n",
              "      <th>Adj. Close</th>\n",
              "      <th>Volume</th>\n",
              "    </tr>\n",
              "    <tr>\n",
              "      <th>Date</th>\n",
              "      <th></th>\n",
              "      <th></th>\n",
              "      <th></th>\n",
              "      <th></th>\n",
              "      <th></th>\n",
              "      <th></th>\n",
              "    </tr>\n",
              "  </thead>\n",
              "  <tbody>\n",
              "    <tr>\n",
              "      <th>2021-03-26</th>\n",
              "      <td>49.42</td>\n",
              "      <td>54.73</td>\n",
              "      <td>40.81</td>\n",
              "      <td>45.25</td>\n",
              "      <td>45.25</td>\n",
              "      <td>149722800</td>\n",
              "    </tr>\n",
              "    <tr>\n",
              "      <th>2021-03-29</th>\n",
              "      <td>45.19</td>\n",
              "      <td>48.48</td>\n",
              "      <td>43.38</td>\n",
              "      <td>45.33</td>\n",
              "      <td>45.33</td>\n",
              "      <td>40168800</td>\n",
              "    </tr>\n",
              "    <tr>\n",
              "      <th>2021-03-30</th>\n",
              "      <td>46.88</td>\n",
              "      <td>51.08</td>\n",
              "      <td>45.50</td>\n",
              "      <td>48.62</td>\n",
              "      <td>48.62</td>\n",
              "      <td>68379600</td>\n",
              "    </tr>\n",
              "    <tr>\n",
              "      <th>2021-03-31</th>\n",
              "      <td>49.38</td>\n",
              "      <td>49.87</td>\n",
              "      <td>46.78</td>\n",
              "      <td>47.46</td>\n",
              "      <td>47.46</td>\n",
              "      <td>33575200</td>\n",
              "    </tr>\n",
              "    <tr>\n",
              "      <th>2021-04-01</th>\n",
              "      <td>48.34</td>\n",
              "      <td>49.24</td>\n",
              "      <td>45.90</td>\n",
              "      <td>47.86</td>\n",
              "      <td>47.86</td>\n",
              "      <td>37337200</td>\n",
              "    </tr>\n",
              "  </tbody>\n",
              "</table>\n",
              "</div>\n",
              "    <div class=\"colab-df-buttons\">\n",
              "\n",
              "  <div class=\"colab-df-container\">\n",
              "    <button class=\"colab-df-convert\" onclick=\"convertToInteractive('df-5811f070-acd3-475f-91ce-b3956eb07f47')\"\n",
              "            title=\"Convert this dataframe to an interactive table.\"\n",
              "            style=\"display:none;\">\n",
              "\n",
              "  <svg xmlns=\"http://www.w3.org/2000/svg\" height=\"24px\" viewBox=\"0 -960 960 960\">\n",
              "    <path d=\"M120-120v-720h720v720H120Zm60-500h600v-160H180v160Zm220 220h160v-160H400v160Zm0 220h160v-160H400v160ZM180-400h160v-160H180v160Zm440 0h160v-160H620v160ZM180-180h160v-160H180v160Zm440 0h160v-160H620v160Z\"/>\n",
              "  </svg>\n",
              "    </button>\n",
              "\n",
              "  <style>\n",
              "    .colab-df-container {\n",
              "      display:flex;\n",
              "      gap: 12px;\n",
              "    }\n",
              "\n",
              "    .colab-df-convert {\n",
              "      background-color: #E8F0FE;\n",
              "      border: none;\n",
              "      border-radius: 50%;\n",
              "      cursor: pointer;\n",
              "      display: none;\n",
              "      fill: #1967D2;\n",
              "      height: 32px;\n",
              "      padding: 0 0 0 0;\n",
              "      width: 32px;\n",
              "    }\n",
              "\n",
              "    .colab-df-convert:hover {\n",
              "      background-color: #E2EBFA;\n",
              "      box-shadow: 0px 1px 2px rgba(60, 64, 67, 0.3), 0px 1px 3px 1px rgba(60, 64, 67, 0.15);\n",
              "      fill: #174EA6;\n",
              "    }\n",
              "\n",
              "    .colab-df-buttons div {\n",
              "      margin-bottom: 4px;\n",
              "    }\n",
              "\n",
              "    [theme=dark] .colab-df-convert {\n",
              "      background-color: #3B4455;\n",
              "      fill: #D2E3FC;\n",
              "    }\n",
              "\n",
              "    [theme=dark] .colab-df-convert:hover {\n",
              "      background-color: #434B5C;\n",
              "      box-shadow: 0px 1px 3px 1px rgba(0, 0, 0, 0.15);\n",
              "      filter: drop-shadow(0px 1px 2px rgba(0, 0, 0, 0.3));\n",
              "      fill: #FFFFFF;\n",
              "    }\n",
              "  </style>\n",
              "\n",
              "    <script>\n",
              "      const buttonEl =\n",
              "        document.querySelector('#df-5811f070-acd3-475f-91ce-b3956eb07f47 button.colab-df-convert');\n",
              "      buttonEl.style.display =\n",
              "        google.colab.kernel.accessAllowed ? 'block' : 'none';\n",
              "\n",
              "      async function convertToInteractive(key) {\n",
              "        const element = document.querySelector('#df-5811f070-acd3-475f-91ce-b3956eb07f47');\n",
              "        const dataTable =\n",
              "          await google.colab.kernel.invokeFunction('convertToInteractive',\n",
              "                                                    [key], {});\n",
              "        if (!dataTable) return;\n",
              "\n",
              "        const docLinkHtml = 'Like what you see? Visit the ' +\n",
              "          '<a target=\"_blank\" href=https://colab.research.google.com/notebooks/data_table.ipynb>data table notebook</a>'\n",
              "          + ' to learn more about interactive tables.';\n",
              "        element.innerHTML = '';\n",
              "        dataTable['output_type'] = 'display_data';\n",
              "        await google.colab.output.renderOutput(dataTable, element);\n",
              "        const docLink = document.createElement('div');\n",
              "        docLink.innerHTML = docLinkHtml;\n",
              "        element.appendChild(docLink);\n",
              "      }\n",
              "    </script>\n",
              "  </div>\n",
              "\n",
              "\n",
              "<div id=\"df-e21f6fe5-73c6-413b-8eff-257c02a6c4ec\">\n",
              "  <button class=\"colab-df-quickchart\" onclick=\"quickchart('df-e21f6fe5-73c6-413b-8eff-257c02a6c4ec')\"\n",
              "            title=\"Suggest charts\"\n",
              "            style=\"display:none;\">\n",
              "\n",
              "<svg xmlns=\"http://www.w3.org/2000/svg\" height=\"24px\"viewBox=\"0 0 24 24\"\n",
              "     width=\"24px\">\n",
              "    <g>\n",
              "        <path d=\"M19 3H5c-1.1 0-2 .9-2 2v14c0 1.1.9 2 2 2h14c1.1 0 2-.9 2-2V5c0-1.1-.9-2-2-2zM9 17H7v-7h2v7zm4 0h-2V7h2v10zm4 0h-2v-4h2v4z\"/>\n",
              "    </g>\n",
              "</svg>\n",
              "  </button>\n",
              "\n",
              "<style>\n",
              "  .colab-df-quickchart {\n",
              "      --bg-color: #E8F0FE;\n",
              "      --fill-color: #1967D2;\n",
              "      --hover-bg-color: #E2EBFA;\n",
              "      --hover-fill-color: #174EA6;\n",
              "      --disabled-fill-color: #AAA;\n",
              "      --disabled-bg-color: #DDD;\n",
              "  }\n",
              "\n",
              "  [theme=dark] .colab-df-quickchart {\n",
              "      --bg-color: #3B4455;\n",
              "      --fill-color: #D2E3FC;\n",
              "      --hover-bg-color: #434B5C;\n",
              "      --hover-fill-color: #FFFFFF;\n",
              "      --disabled-bg-color: #3B4455;\n",
              "      --disabled-fill-color: #666;\n",
              "  }\n",
              "\n",
              "  .colab-df-quickchart {\n",
              "    background-color: var(--bg-color);\n",
              "    border: none;\n",
              "    border-radius: 50%;\n",
              "    cursor: pointer;\n",
              "    display: none;\n",
              "    fill: var(--fill-color);\n",
              "    height: 32px;\n",
              "    padding: 0;\n",
              "    width: 32px;\n",
              "  }\n",
              "\n",
              "  .colab-df-quickchart:hover {\n",
              "    background-color: var(--hover-bg-color);\n",
              "    box-shadow: 0 1px 2px rgba(60, 64, 67, 0.3), 0 1px 3px 1px rgba(60, 64, 67, 0.15);\n",
              "    fill: var(--button-hover-fill-color);\n",
              "  }\n",
              "\n",
              "  .colab-df-quickchart-complete:disabled,\n",
              "  .colab-df-quickchart-complete:disabled:hover {\n",
              "    background-color: var(--disabled-bg-color);\n",
              "    fill: var(--disabled-fill-color);\n",
              "    box-shadow: none;\n",
              "  }\n",
              "\n",
              "  .colab-df-spinner {\n",
              "    border: 2px solid var(--fill-color);\n",
              "    border-color: transparent;\n",
              "    border-bottom-color: var(--fill-color);\n",
              "    animation:\n",
              "      spin 1s steps(1) infinite;\n",
              "  }\n",
              "\n",
              "  @keyframes spin {\n",
              "    0% {\n",
              "      border-color: transparent;\n",
              "      border-bottom-color: var(--fill-color);\n",
              "      border-left-color: var(--fill-color);\n",
              "    }\n",
              "    20% {\n",
              "      border-color: transparent;\n",
              "      border-left-color: var(--fill-color);\n",
              "      border-top-color: var(--fill-color);\n",
              "    }\n",
              "    30% {\n",
              "      border-color: transparent;\n",
              "      border-left-color: var(--fill-color);\n",
              "      border-top-color: var(--fill-color);\n",
              "      border-right-color: var(--fill-color);\n",
              "    }\n",
              "    40% {\n",
              "      border-color: transparent;\n",
              "      border-right-color: var(--fill-color);\n",
              "      border-top-color: var(--fill-color);\n",
              "    }\n",
              "    60% {\n",
              "      border-color: transparent;\n",
              "      border-right-color: var(--fill-color);\n",
              "    }\n",
              "    80% {\n",
              "      border-color: transparent;\n",
              "      border-right-color: var(--fill-color);\n",
              "      border-bottom-color: var(--fill-color);\n",
              "    }\n",
              "    90% {\n",
              "      border-color: transparent;\n",
              "      border-bottom-color: var(--fill-color);\n",
              "    }\n",
              "  }\n",
              "</style>\n",
              "\n",
              "  <script>\n",
              "    async function quickchart(key) {\n",
              "      const quickchartButtonEl =\n",
              "        document.querySelector('#' + key + ' button');\n",
              "      quickchartButtonEl.disabled = true;  // To prevent multiple clicks.\n",
              "      quickchartButtonEl.classList.add('colab-df-spinner');\n",
              "      try {\n",
              "        const charts = await google.colab.kernel.invokeFunction(\n",
              "            'suggestCharts', [key], {});\n",
              "      } catch (error) {\n",
              "        console.error('Error during call to suggestCharts:', error);\n",
              "      }\n",
              "      quickchartButtonEl.classList.remove('colab-df-spinner');\n",
              "      quickchartButtonEl.classList.add('colab-df-quickchart-complete');\n",
              "    }\n",
              "    (() => {\n",
              "      let quickchartButtonEl =\n",
              "        document.querySelector('#df-e21f6fe5-73c6-413b-8eff-257c02a6c4ec button');\n",
              "      quickchartButtonEl.style.display =\n",
              "        google.colab.kernel.accessAllowed ? 'block' : 'none';\n",
              "    })();\n",
              "  </script>\n",
              "</div>\n",
              "\n",
              "    </div>\n",
              "  </div>\n"
            ],
            "application/vnd.google.colaboratory.intrinsic+json": {
              "type": "dataframe",
              "summary": "{\n  \"name\": \"print(normalized_data\",\n  \"rows\": 5,\n  \"fields\": [\n    {\n      \"column\": \"Date\",\n      \"properties\": {\n        \"dtype\": \"date\",\n        \"min\": \"2021-03-26 00:00:00\",\n        \"max\": \"2021-04-01 00:00:00\",\n        \"num_unique_values\": 5,\n        \"samples\": [\n          \"2021-03-29 00:00:00\",\n          \"2021-04-01 00:00:00\",\n          \"2021-03-30 00:00:00\"\n        ],\n        \"semantic_type\": \"\",\n        \"description\": \"\"\n      }\n    },\n    {\n      \"column\": \"Open\",\n      \"properties\": {\n        \"dtype\": \"number\",\n        \"std\": 1.8070749846091076,\n        \"min\": 45.19,\n        \"max\": 49.42,\n        \"num_unique_values\": 5,\n        \"samples\": [\n          45.19,\n          48.34,\n          46.88\n        ],\n        \"semantic_type\": \"\",\n        \"description\": \"\"\n      }\n    },\n    {\n      \"column\": \"High\",\n      \"properties\": {\n        \"dtype\": \"number\",\n        \"std\": 2.4562267810607388,\n        \"min\": 48.48,\n        \"max\": 54.73,\n        \"num_unique_values\": 5,\n        \"samples\": [\n          48.48,\n          49.24,\n          51.08\n        ],\n        \"semantic_type\": \"\",\n        \"description\": \"\"\n      }\n    },\n    {\n      \"column\": \"Low\",\n      \"properties\": {\n        \"dtype\": \"number\",\n        \"std\": 2.3992457148028827,\n        \"min\": 40.81,\n        \"max\": 46.78,\n        \"num_unique_values\": 5,\n        \"samples\": [\n          43.38,\n          45.9,\n          45.5\n        ],\n        \"semantic_type\": \"\",\n        \"description\": \"\"\n      }\n    },\n    {\n      \"column\": \"Close\",\n      \"properties\": {\n        \"dtype\": \"number\",\n        \"std\": 1.531414378932103,\n        \"min\": 45.25,\n        \"max\": 48.62,\n        \"num_unique_values\": 5,\n        \"samples\": [\n          45.33,\n          47.86,\n          48.62\n        ],\n        \"semantic_type\": \"\",\n        \"description\": \"\"\n      }\n    },\n    {\n      \"column\": \"Adj. Close\",\n      \"properties\": {\n        \"dtype\": \"number\",\n        \"std\": 1.531414378932103,\n        \"min\": 45.25,\n        \"max\": 48.62,\n        \"num_unique_values\": 5,\n        \"samples\": [\n          45.33,\n          47.86,\n          48.62\n        ],\n        \"semantic_type\": \"\",\n        \"description\": \"\"\n      }\n    },\n    {\n      \"column\": \"Volume\",\n      \"properties\": {\n        \"dtype\": \"number\",\n        \"std\": 48875380,\n        \"min\": 33575200,\n        \"max\": 149722800,\n        \"num_unique_values\": 5,\n        \"samples\": [\n          40168800,\n          37337200,\n          68379600\n        ],\n        \"semantic_type\": \"\",\n        \"description\": \"\"\n      }\n    }\n  ]\n}"
            }
          },
          "metadata": {}
        },
        {
          "output_type": "stream",
          "name": "stdout",
          "text": [
            "\n",
            "\n",
            "(62, 1)\n"
          ]
        }
      ]
    },
    {
      "cell_type": "markdown",
      "source": [
        "3. Create a testing dataset that includes the entirety of this newly filtered dataset."
      ],
      "metadata": {
        "id": "F2_dmeB8v-V7"
      }
    },
    {
      "cell_type": "code",
      "source": [
        "# PRACTICAL CODE GOES HERE!\n",
        "\n",
        "# Define your time series forecasting sequences\n",
        "\n",
        "# Since you are using the entire dataset there is no need to redefine test specific splits.\n",
        "# Make sure to create a new \"Dates\" variable to store the dates associated with the new sequences.\n",
        "\n",
        "seq_length = 10  # Using past 10 days to predict the next day\n",
        "# Create your input and target varibale arrays here\n",
        "X, y = create_sequences(normalized_data, seq_length) # Hint: Use the function provided in the example.\n",
        "\n",
        "dates = df_processed.index[seq_length:] # Start your dates at the date of the first target value\n",
        "\n",
        "# Check the shape of your data\n",
        "print(f\"Shape of X: {X.shape}\")\n",
        "print(f\"Shape of y: {y.shape}\")\n",
        "print(f\"Shape of dates: {dates.shape}\")\n",
        "\n",
        "# Move the data to PyTorch Tensors\n",
        "\n",
        "X_test = torch.tensor(X, dtype=torch.float32).to(device) # Convert your X array to a tensor here (Don't forget to move it to the proper device)\n",
        "y_test = torch.tensor(y, dtype=torch.float32).to(device) # Convert your y array to a tensor here (Don't forget to move it to the proper device)"
      ],
      "metadata": {
        "id": "cV_NsxAJwYD2",
        "outputId": "c72d128d-862a-4596-8558-46b9bc89be99",
        "colab": {
          "base_uri": "https://localhost:8080/"
        }
      },
      "execution_count": 30,
      "outputs": [
        {
          "output_type": "stream",
          "name": "stdout",
          "text": [
            "Shape of X: (52, 10, 1)\n",
            "Shape of y: (52, 1)\n",
            "Shape of dates: (52,)\n"
          ]
        }
      ]
    },
    {
      "cell_type": "markdown",
      "source": [
        "4. Evaluate your model on the new test dataset.\n",
        "\n",
        "   Hint: Use the code provided in the example as a guide."
      ],
      "metadata": {
        "id": "XwdjnNnCygJL"
      }
    },
    {
      "cell_type": "code",
      "source": [
        "# Evaluate your model on the new test data.\n",
        "\n",
        "predictions, y_test = evaluate_model(model, X_test, y_test, scaler)\n",
        "print_example_predictions(X_test, y_test, predictions, dates_test)\n",
        "plot_predictions()\n",
        "\n"
      ],
      "metadata": {
        "id": "h7sIcDKwylHT"
      },
      "execution_count": null,
      "outputs": []
    },
    {
      "cell_type": "markdown",
      "source": [
        "4. In your opinion how did the model perform at predicting the price of the stock during this time period? Do you feel the same way you felt earlier about your model? What can you say about the reason your model's predictions succeeded or failed?"
      ],
      "metadata": {
        "id": "dQJZ7p4y5O9P"
      }
    },
    {
      "cell_type": "markdown",
      "source": [
        "    Answer:"
      ],
      "metadata": {
        "id": "YysDcCFtoXD4"
      }
    },
    {
      "cell_type": "markdown",
      "source": [
        "## Part 2: Updated models\n",
        "\n",
        "   5. Create 4 new models with three fully connected layers. Use 20, 40, 60 and 80 hidden neurons respectively at each of the first two hidden layers. For the third hidden layer use 10, 20, 30, and 40 respectively.\n",
        "\n",
        "   Print the details of each created model."
      ],
      "metadata": {
        "id": "tadTSJEj57pr"
      }
    },
    {
      "cell_type": "code",
      "source": [
        "# Define the PyTorch model\n",
        "class NewStockPredictor(nn.Module):\n",
        "    def __init__(self, input_dim, hidden_dim_1, hidden_dim_2):\n",
        "        super(NewStockPredictor, self).__init__()\n",
        "        self.fc1 = nn.Linear() # Define the first fully connected layer\n",
        "        self.relu = nn.ReLU()\n",
        "        self.fc2 = nn.Linear() # Define the second fully connected layer\n",
        "        self.fc3 = nn.Linear(, 1) # Define the third fully connected layer\n",
        "\n",
        "    def forward(self, x):\n",
        "        # Apply the layers here (Remember the last fully connected layer doesn't require an activation function for regression.)\n",
        "        x =\n",
        "        return x\n",
        "\n",
        "hidden_dim_1_list = [] # First hidden layer dimension go here\n",
        "hidden_dim_2_list = [] # Second hidden layer dimensions go here\n",
        "\n",
        "paired = list(zip(hidden_dim_1_list, hidden_dim_2_list))\n",
        "\n",
        "# Instantiate models to see details\n",
        "models = []\n",
        "for hidden_dim_1, hidden_dim_2 in paired:\n",
        "    model =  # Instantiate the models here (Don't forget to move the models to the device).\n",
        "    models.append(model)\n",
        "\n",
        "# Print model details\n",
        "for i, model in enumerate(models):\n",
        "    print(f\"Model {i+1}: hidden_dim_1={paired[i][0]}, hidden_dim_2={paired[i][1]}\")\n",
        "    print(model)\n",
        "\n",
        "# Print model device location\n",
        "for i, model in enumerate(models):\n",
        "    print(f\"Model {i+1} is on {next(model.parameters()).device}\")"
      ],
      "metadata": {
        "id": "caqUkJ1n-b1v"
      },
      "execution_count": null,
      "outputs": []
    },
    {
      "cell_type": "markdown",
      "source": [
        "6. Run the following code and observe how the different models behave for different stocks.\n",
        "\n",
        "  **YOU DO NOT NEED TO EDIT THIS CODE.**"
      ],
      "metadata": {
        "id": "Rj3f_Tz-kr70"
      }
    },
    {
      "cell_type": "code",
      "source": [
        "# Run the following code to train and test the new models\n",
        "\n",
        "stocks = [nvda, ko, gme]\n",
        "\n",
        "seq_length = 10  # Using past 10 days to predict the next day\n",
        "\n",
        "for stock in stocks:\n",
        "  print(\"-\" * 200)\n",
        "  print(\"-\" * 200)\n",
        "  print(stock[1])\n",
        "  print(\"-\" * 200)\n",
        "  print(\"-\" * 200)\n",
        "  print(\"\\n\")\n",
        "\n",
        "  normalized_data, scaler, df_processed = preprocess_financial_data(stock[0], start_date=\"2000-01-01\")\n",
        "\n",
        "  X, y = create_sequences(normalized_data, seq_length)\n",
        "  dates = df_processed.index[seq_length:]\n",
        "\n",
        "  split_index = int(len(X) * 0.6)\n",
        "  X_train, X_temp, y_train, y_temp, dates_train, dates_temp = X[:split_index], X[split_index:], y[:split_index], y[split_index:], dates[:split_index], dates[split_index:]\n",
        "  X_val, X_test, y_val, y_test, dates_val, dates_test = X_temp[:len(X_temp)//2], X_temp[len(X_temp)//2:], y_temp[:len(y_temp)//2], y_temp[len(y_temp)//2:], dates_temp[:len(dates_temp)//2], dates_temp[len(dates_temp)//2:]\n",
        "\n",
        "  # Convert to PyTorch tensors and move to device\n",
        "  X_train = torch.tensor(X_train, dtype=torch.float32).to(device)\n",
        "  y_train = torch.tensor(y_train, dtype=torch.float32).to(device)\n",
        "  X_val = torch.tensor(X_val, dtype=torch.float32).to(device)\n",
        "  y_val = torch.tensor(y_val, dtype=torch.float32).to(device)\n",
        "  X_test = torch.tensor(X_test, dtype=torch.float32).to(device)\n",
        "  y_test = torch.tensor(y_test, dtype=torch.float32).to(device)\n",
        "\n",
        "  for hidden_dim_1, hidden_dim_2 in paired:\n",
        "\n",
        "    # Since the models are in a loop they must be instaniated before training to reset the intial weights.\n",
        "    # A fresh model instance is needed each time, and you must explicitly create a new instance.\n",
        "    # Otherwise, you are training the same instances from models repeatedly.\n",
        "    model = NewStockPredictor(seq_length, hidden_dim_1, hidden_dim_2).to(device) # Don't forget to move the models to the device\n",
        "\n",
        "    print(\"-\" * 200)\n",
        "    print(f\"Model: hidden_dim_1={hidden_dim_1}, hidden_dim_2={hidden_dim_2}\")\n",
        "    print(\"-\" * 200)\n",
        "\n",
        "    # Optimizer should be reinitialized with a fresh model\n",
        "    optimizer = optim.Adam(model.parameters(), lr=0.001)\n",
        "\n",
        "    train_losses, val_losses = train_model(model, criterion, optimizer, X_train, y_train, X_val, y_val)\n",
        "    plot_loss(train_losses, val_losses)\n",
        "\n",
        "    predictions, y_plotting = evaluate_model(model, X_test, y_test, scaler)\n",
        "    print_example_predictions(X_test,  y_plotting, predictions, scaler, dates_test)\n",
        "    plot_predictions(dates_test, y_plotting, predictions)\n",
        "\n",
        "    print(\"\\n\")\n"
      ],
      "metadata": {
        "id": "EvTzlbnFDn-3"
      },
      "execution_count": null,
      "outputs": []
    },
    {
      "cell_type": "markdown",
      "source": [
        "7. In general how do the different models behave as the number of neurons per hidden layer increase? What could be some of the possible reasons that models don't perform well? Are there stocks in which none of the models perform well? Why might this be?"
      ],
      "metadata": {
        "id": "as-dauxVicwG"
      }
    },
    {
      "cell_type": "markdown",
      "source": [
        "    Answer:"
      ],
      "metadata": {
        "id": "w5h2oCMDi8Fs"
      }
    }
  ]
}